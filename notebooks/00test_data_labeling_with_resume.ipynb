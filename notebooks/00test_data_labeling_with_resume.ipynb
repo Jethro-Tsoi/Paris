{
 "cells": [
  {
   "cell_type": "code",
   "execution_count": 1,
   "metadata": {},
   "outputs": [
    {
     "name": "stdout",
     "output_type": "stream",
     "text": [
      "Requirement already satisfied: polars in /Users/jethrotsoi/anaconda3/envs/PIRAS/lib/python3.11/site-packages (1.26.0)\n",
      "Requirement already satisfied: requests in /Users/jethrotsoi/anaconda3/envs/PIRAS/lib/python3.11/site-packages (2.32.3)\n",
      "Requirement already satisfied: tqdm in /Users/jethrotsoi/anaconda3/envs/PIRAS/lib/python3.11/site-packages (4.67.1)\n",
      "Requirement already satisfied: charset-normalizer<4,>=2 in /Users/jethrotsoi/anaconda3/envs/PIRAS/lib/python3.11/site-packages (from requests) (3.4.1)\n",
      "Requirement already satisfied: idna<4,>=2.5 in /Users/jethrotsoi/anaconda3/envs/PIRAS/lib/python3.11/site-packages (from requests) (3.10)\n",
      "Requirement already satisfied: urllib3<3,>=1.21.1 in /Users/jethrotsoi/anaconda3/envs/PIRAS/lib/python3.11/site-packages (from requests) (2.3.0)\n",
      "Requirement already satisfied: certifi>=2017.4.17 in /Users/jethrotsoi/anaconda3/envs/PIRAS/lib/python3.11/site-packages (from requests) (2025.1.31)\n"
     ]
    }
   ],
   "source": [
    "!pip install polars requests tqdm"
   ]
  },
  {
   "cell_type": "code",
   "execution_count": 2,
   "id": "7d595140",
   "metadata": {},
   "outputs": [],
   "source": [
    "import os\n",
    "import polars as pl\n",
    "import requests\n",
    "import json\n",
    "from tqdm import tqdm\n",
    "import time\n",
    "import re\n",
    "# Removed: # Removed: import google.generativeai as genai\n",
    "from concurrent.futures import ThreadPoolExecutor"
   ]
  },
  {
   "cell_type": "code",
   "execution_count": 3,
   "id": "e855cc1e",
   "metadata": {},
   "outputs": [],
   "source": [
    "class KeyManager:\n",
    "    \"\"\"Manages multiple API keys and rotates them when rate limits are reached\"\"\"\n",
    "    \n",
    "    def __init__(self, env_prefix='MISTRAL_API_KEY'):\n",
    "        \"\"\"\n",
    "        Initialize the key manager\n",
    "        \n",
    "        Parameters:\n",
    "        -----------\n",
    "        env_prefix : str\n",
    "            Prefix for environment variables storing API keys.\n",
    "            Keys should be named like MISTRAL_API_KEY, MISTRAL_API_KEY_1, MISTRAL_API_KEY_2, etc.\n",
    "        \"\"\"\n",
    "        self.env_prefix = env_prefix\n",
    "        self.api_keys = self._load_api_keys()\n",
    "        self.current_index = 0\n",
    "        self.rate_limited_keys = {}  # Track which keys hit rate limits and when they can be used again\n",
    "        self.base_url = \"https://api.mistral.ai/v1/chat/completions\"\n",
    "        self.headers = {\n",
    "            \"Content-Type\": \"application/json\"\n",
    "        }\n",
    "        \n",
    "        if not self.api_keys:\n",
    "            print(\"⚠️ No API keys found. Please set at least one API key.\")\n",
    "            key = input(f\"Enter your Mistral AI API key: \")\n",
    "            if key:\n",
    "                self.api_keys.append(key)\n",
    "            else:\n",
    "                raise ValueError(\"No API key provided. Cannot continue.\")\n",
    "        \n",
    "        print(f\"Loaded {len(self.api_keys)} Mistral API keys.\")\n",
    "        \n",
    "    def _load_api_keys(self):\n",
    "        \"\"\"Load API keys from environment variables\"\"\"\n",
    "        api_keys = []\n",
    "        \n",
    "        # Try the base key first\n",
    "        base_key = os.getenv(self.env_prefix)\n",
    "        if base_key:\n",
    "            api_keys.append(base_key)\n",
    "        \n",
    "        # Try numbered keys (MISTRAL_API_KEY_1, MISTRAL_API_KEY_2, etc.)\n",
    "        for i in range(1, 10):  # Check for up to 10 keys\n",
    "            key = os.getenv(f\"{self.env_prefix}_{i}\")\n",
    "            if key:\n",
    "                api_keys.append(key)\n",
    "        \n",
    "        return api_keys\n",
    "    \n",
    "    def get_current_key(self):\n",
    "        \"\"\"Get the current active API key\"\"\"\n",
    "        return self.api_keys[self.current_index]\n",
    "    \n",
    "    def get_current_headers(self):\n",
    "        \"\"\"Get headers with the current API key\"\"\"\n",
    "        headers = self.headers.copy()\n",
    "        headers[\"Authorization\"] = f\"Bearer {self.get_current_key()}\"\n",
    "        return headers\n",
    "    \n",
    "    def rotate_key(self, rate_limited=False, retry_after=60):\n",
    "        \"\"\"\n",
    "        Rotate to the next available API key\n",
    "        \n",
    "        Parameters:\n",
    "        -----------\n",
    "        rate_limited : bool\n",
    "            Whether the current key hit a rate limit\n",
    "        retry_after : int\n",
    "            Seconds until the rate-limited key can be used again\n",
    "        \n",
    "        Returns:\n",
    "        --------\n",
    "        str : The new API key\n",
    "        \"\"\"\n",
    "        # Mark the current key as rate limited if needed\n",
    "        if rate_limited:\n",
    "            self.rate_limited_keys[self.current_index] = time.time() + retry_after\n",
    "            print(f\"API key {self.current_index + 1} rate limited. Will retry after {retry_after} seconds.\")\n",
    "        \n",
    "        # Try to find a key that's not rate limited\n",
    "        original_index = self.current_index\n",
    "        while True:\n",
    "            self.current_index = (self.current_index + 1) % len(self.api_keys)\n",
    "            \n",
    "            # Check if this key is rate limited\n",
    "            if self.current_index in self.rate_limited_keys:\n",
    "                # Check if enough time has passed\n",
    "                if time.time() > self.rate_limited_keys[self.current_index]:\n",
    "                    # Key is no longer rate limited\n",
    "                    del self.rate_limited_keys[self.current_index]\n",
    "                    break\n",
    "            else:\n",
    "                # Key is not rate limited\n",
    "                break\n",
    "                \n",
    "            # If we've checked all keys and they're all rate limited, use the least recently rate limited one\n",
    "            if self.current_index == original_index:\n",
    "                # Find the key that will be available soonest\n",
    "                soonest_available = min(self.rate_limited_keys.items(), key=lambda x: x[1])\n",
    "                self.current_index = soonest_available[0]\n",
    "                wait_time = max(0, self.rate_limited_keys[self.current_index] - time.time())\n",
    "                \n",
    "                if wait_time > 0:\n",
    "                    print(f\"All API keys are rate limited. Waiting {wait_time:.1f} seconds for the next available key.\")\n",
    "                    time.sleep(wait_time)\n",
    "                    del self.rate_limited_keys[self.current_index]\n",
    "                break\n",
    "        \n",
    "        # Return the new key\n",
    "        key = self.api_keys[self.current_index]\n",
    "        print(f\"Switched to Mistral API key {self.current_index + 1}\")\n",
    "        return key"
   ]
  },
  {
   "cell_type": "code",
   "execution_count": 4,
   "id": "8e42b84c",
   "metadata": {},
   "outputs": [
    {
     "name": "stdout",
     "output_type": "stream",
     "text": [
      "Loaded 1 Mistral API keys.\n"
     ]
    }
   ],
   "source": [
    "# Initialize the Key Manager\n",
    "key_manager = KeyManager()\n",
    "\n",
    "# Set the model name\n",
    "MODEL = \"mistral-small-latest\"  # Using Mistral's large model instead of Gemini\n"
   ]
  },
  {
   "cell_type": "markdown",
   "id": "c2c9bc61",
   "metadata": {},
   "source": [
    "\n",
    "> **⚠️ API Key Setup**\n",
    ">\n",
    "> This notebook uses the Mistral AI API with support for multiple API keys:\n",
    ">\n",
    "> 1. Set your primary API key as `MISTRAL_API_KEY` environment variable\n",
    "> 2. For additional keys, use `MISTRAL_API_KEY_1`, `MISTRAL_API_KEY_2`, etc.\n",
    "> 3. The system will automatically rotate between keys if rate limits are encountered\n",
    ">\n",
    "> Keys can be created at [Mistral AI Platform](https://console.mistral.ai/)\n",
    ">\n",
    "> **Mistral AI Free Tier Limits:**\n",
    "> - 1 request per second (60 requests per minute)\n",
    "> - 500,000 tokens per minute\n",
    "> - 1 billion tokens per month\n"
   ]
  },
  {
   "cell_type": "code",
   "execution_count": 5,
   "id": "700448bb",
   "metadata": {},
   "outputs": [],
   "source": [
    "def setup_prompt(text):\n",
    "    \"\"\"Configure the prompt for Mistral\"\"\"\n",
    "    return [\n",
    "        {\"role\": \"system\", \"content\": \"\"\"\n",
    "            You are a financial sentiment analyzer. Classify the given tweet's sentiment into one of these categories:\n",
    "\n",
    "            STRONGLY_POSITIVE - Very bullish, highly confident optimistic outlook\n",
    "            POSITIVE - Generally optimistic, bullish view\n",
    "            NEUTRAL - Factual, balanced, or no clear sentiment\n",
    "            NEGATIVE - Generally pessimistic, bearish view\n",
    "            STRONGLY_NEGATIVE - Very bearish, highly confident pessimistic outlook\n",
    "\n",
    "            Examples:\n",
    "            \"Breaking: Company XYZ doubles profit forecast!\" -> STRONGLY_POSITIVE\n",
    "            \"Expecting modest gains next quarter\" -> POSITIVE\n",
    "            \"Market closed at 35,000\" -> NEUTRAL\n",
    "            \"Concerned about rising rates\" -> NEGATIVE\n",
    "            \"Crash incoming, sell everything!\" -> STRONGLY_NEGATIVE\n",
    "\n",
    "            Format: Return only one word from: STRONGLY_POSITIVE, POSITIVE, NEUTRAL, NEGATIVE, STRONGLY_NEGATIVE\n",
    "        \"\"\"},\n",
    "        {\"role\": \"user\", \"content\": f\"Analyze the sentiment of this tweet: {text}\"}\n",
    "    ]"
   ]
  },
  {
   "cell_type": "code",
   "execution_count": 6,
   "id": "fbf82b2f",
   "metadata": {},
   "outputs": [],
   "source": [
    "def get_sentiment(text, retries=3):\n",
    "    \"\"\"Get sentiment from Mistral AI with retry logic\"\"\"\n",
    "    if not text or len(str(text).strip()) < 3:\n",
    "        return 'NEUTRAL'\n",
    "    \n",
    "    for attempt in range(retries):\n",
    "        try:\n",
    "            # Setup the API request for Mistral\n",
    "            headers = key_manager.get_current_headers()\n",
    "            payload = {\n",
    "                \"model\": MODEL,\n",
    "                \"temperature\": 0.0,  # Deterministic output\n",
    "                \"max_tokens\": 10,    # We only need one word\n",
    "                \"messages\": setup_prompt(text)\n",
    "            }\n",
    "            \n",
    "            # Make the API request\n",
    "            response = requests.post(\n",
    "                key_manager.base_url,\n",
    "                headers=headers,\n",
    "                json=payload\n",
    "            )\n",
    "            \n",
    "            if response.status_code == 200:\n",
    "                # Extract sentiment from Mistral's response\n",
    "                response_json = response.json()\n",
    "                sentiment = response_json['choices'][0]['message']['content'].strip().upper()\n",
    "                \n",
    "                # Validate the response\n",
    "                valid_labels = [\n",
    "                    'STRONGLY_POSITIVE', 'POSITIVE', 'NEUTRAL', 'NEGATIVE', 'STRONGLY_NEGATIVE'\n",
    "                ]\n",
    "                \n",
    "                if sentiment in valid_labels:\n",
    "                    return sentiment\n",
    "                else:\n",
    "                    print(f\"Invalid sentiment received: {sentiment}, defaulting to NEUTRAL\")\n",
    "                    return 'NEUTRAL'\n",
    "            elif response.status_code == 429:  # Rate limit\n",
    "                # Get retry_after time if provided\n",
    "                retry_after = int(response.headers.get('Retry-After', 5))\n",
    "                key_manager.rotate_key(rate_limited=True, retry_after=retry_after)\n",
    "                if attempt < retries - 1:\n",
    "                    continue\n",
    "                else:\n",
    "                    return 'NEUTRAL'\n",
    "            else:\n",
    "                print(f\"API error: {response.status_code} - {response.text}\")\n",
    "                if attempt < retries - 1:\n",
    "                    time.sleep(2)  # Wait before retry\n",
    "                    continue\n",
    "                else:\n",
    "                    return 'NEUTRAL'\n",
    "                \n",
    "        except Exception as e:\n",
    "            error_str = str(e).lower()\n",
    "            # Check for rate limiting errors\n",
    "            if \"quota\" in error_str or \"rate\" in error_str or \"429\" in error_str:\n",
    "                # Extract retry time if available (default to 5 seconds if not found)\n",
    "                retry_after = 0\n",
    "                if \"retryafter\" in error_str or \"retry-after\" in error_str or \"retry_after\" in error_str:\n",
    "                    try:\n",
    "                        # Try to extract the retry time\n",
    "                        matches = re.findall(r'retry.*?(\\\\d+)', error_str)\n",
    "                        if matches:\n",
    "                            retry_after = int(matches[0])\n",
    "                    except:\n",
    "                        pass\n",
    "                \n",
    "                # Switch to another API key if there are multiple keys\n",
    "                if len(key_manager.api_keys) > 1:\n",
    "                    key_manager.rotate_key(rate_limited=True, retry_after=retry_after)\n",
    "                    if attempt < retries - 1:\n",
    "                        continue\n",
    "                else:\n",
    "                    # Only one key, just wait\n",
    "                    wait_time = min(2 ** attempt * 5, retry_after)  # Exponential backoff with max retry_after\n",
    "                    print(f\"Rate limit hit - waiting {wait_time}s before retry ({attempt+1}/{retries})\")\n",
    "                    time.sleep(wait_time)\n",
    "                    if attempt < retries - 1:\n",
    "                        continue\n",
    "                    \n",
    "            if attempt == retries - 1:\n",
    "                print(f\"Error processing text: {str(text)[:50]}...\\nError: {str(e)}\")\n",
    "                return 'NEUTRAL'\n",
    "            time.sleep(2)  # Wait before retry\n",
    "    \n",
    "    return 'NEUTRAL'\n"
   ]
  },
  {
   "cell_type": "code",
   "execution_count": 7,
   "id": "7cc0b913",
   "metadata": {},
   "outputs": [
    {
     "name": "stdout",
     "output_type": "stream",
     "text": [
      "Test tweet: 'Breaking: Tesla stock hits all-time high after unexpected profit surge'\n",
      "Sentiment: STRONGLY_POSITIVE\n",
      "Using Mistral API key index: 0\n"
     ]
    }
   ],
   "source": [
    "# Test the sentiment analysis with key rotation\n",
    "test_tweet = \"Breaking: Tesla stock hits all-time high after unexpected profit surge\"\n",
    "sentiment = get_sentiment(test_tweet)\n",
    "print(f\"Test tweet: '{test_tweet}'\")\n",
    "print(f\"Sentiment: {sentiment}\")\n",
    "print(f\"Using Mistral API key index: {key_manager.current_index}\")\n"
   ]
  },
  {
   "cell_type": "code",
   "execution_count": 8,
   "metadata": {},
   "outputs": [
    {
     "name": "stdout",
     "output_type": "stream",
     "text": [
      "Loading stock market tweets dataset from Hugging Face...\n",
      "Loaded 923673 tweets\n",
      "\n",
      "Randomly select 7000 tweets\n"
     ]
    },
    {
     "data": {
      "text/html": [
       "<div><style>\n",
       ".dataframe > thead > tr,\n",
       ".dataframe > tbody > tr {\n",
       "  text-align: right;\n",
       "  white-space: pre-wrap;\n",
       "}\n",
       "</style>\n",
       "<small>shape: (5, 3)</small><table border=\"1\" class=\"dataframe\"><thead><tr><th>id</th><th>created_at</th><th>text</th></tr><tr><td>i64</td><td>str</td><td>str</td></tr></thead><tbody><tr><td>556433</td><td>&quot;2020-06-17 14:11:34+00:00&quot;</td><td>&quot;Be careful here.&nbsp;&nbsp;$VIX is stil…</td></tr><tr><td>139455</td><td>&quot;2020-04-21 19:49:58+00:00&quot;</td><td>&quot;$spx vs credit is insane https…</td></tr><tr><td>17561</td><td>&quot;2020-04-10 13:20:08+00:00&quot;</td><td>&quot;We&#x27;re still looking for someon…</td></tr><tr><td>801248</td><td>&quot;2020-07-07 11:27:56+00:00&quot;</td><td>&quot;#funds #stocks or #futures #Fi…</td></tr><tr><td>780610</td><td>&quot;2020-07-06 17:46:08+00:00&quot;</td><td>&quot;RT @buysellshort: $DIS: FL Gov…</td></tr></tbody></table></div>"
      ],
      "text/plain": [
       "shape: (5, 3)\n",
       "┌────────┬───────────────────────────┬─────────────────────────────────┐\n",
       "│ id     ┆ created_at                ┆ text                            │\n",
       "│ ---    ┆ ---                       ┆ ---                             │\n",
       "│ i64    ┆ str                       ┆ str                             │\n",
       "╞════════╪═══════════════════════════╪═════════════════════════════════╡\n",
       "│ 556433 ┆ 2020-06-17 14:11:34+00:00 ┆ Be careful here.  $VIX is stil… │\n",
       "│ 139455 ┆ 2020-04-21 19:49:58+00:00 ┆ $spx vs credit is insane https… │\n",
       "│ 17561  ┆ 2020-04-10 13:20:08+00:00 ┆ We're still looking for someon… │\n",
       "│ 801248 ┆ 2020-07-07 11:27:56+00:00 ┆ #funds #stocks or #futures #Fi… │\n",
       "│ 780610 ┆ 2020-07-06 17:46:08+00:00 ┆ RT @buysellshort: $DIS: FL Gov… │\n",
       "└────────┴───────────────────────────┴─────────────────────────────────┘"
      ]
     },
     "execution_count": 8,
     "metadata": {},
     "output_type": "execute_result"
    }
   ],
   "source": [
    "# Load data from Hugging Face\n",
    "print(\"Loading stock market tweets dataset from Hugging Face...\")\n",
    "\n",
    "# Check if the huggingface datasets library is installed\n",
    "try:\n",
    "    import huggingface_hub\n",
    "except ImportError:\n",
    "    print(\"Installing huggingface_hub...\")\n",
    "    !pip install huggingface_hub\n",
    "    import huggingface_hub\n",
    "\n",
    "# Load the dataset using Polars\n",
    "df = pl.read_csv('hf://datasets/StephanAkkerman/stock-market-tweets-data/stock-market-tweets-data.csv')\n",
    "\n",
    "\n",
    "\n",
    "print(f\"Loaded {df.shape[0]} tweets\")\n",
    "print(\"\\nRandomly select 7000 tweets\")\n",
    "\n",
    "df = df.sample(7000)\n",
    "df.head(5)"
   ]
  },
  {
   "cell_type": "code",
   "execution_count": 9,
   "metadata": {},
   "outputs": [
    {
     "name": "stdout",
     "output_type": "stream",
     "text": [
      "Using 'text' column for tweet text\n",
      "\n",
      "Analyzing sentiment for 7000 tweets\n"
     ]
    }
   ],
   "source": [
    "# Prepare the dataset for sentiment analysis\n",
    "# Let's make sure we have the 'body' column which contains the tweet text\n",
    "if 'description' in df.columns:\n",
    "    tweet_column = 'description'\n",
    "elif 'text' in df.columns:\n",
    "    tweet_column = 'text'\n",
    "else:\n",
    "    raise ValueError(\"Could not find tweet text column in the dataset\")\n",
    "\n",
    "print(f\"Using '{tweet_column}' column for tweet text\")\n",
    "\n",
    "# For demonstration, let's use a small subset of the data\n",
    "# Use all data instead of a sample - WARNING: This will process 1.7M tweets!\n",
    "sample_size = df.shape[0]  # Adjust based on your needs\n",
    "sample_df = df.sample(sample_size, seed=42)\n",
    "\n",
    "print(f\"\\nAnalyzing sentiment for {sample_size} tweets\")"
   ]
  },
  {
   "cell_type": "markdown",
   "id": "2ecb1756",
   "metadata": {},
   "source": [
    "\n",
    "## Rate Limits for Mistral AI API\n",
    "\n",
    "Mistral AI's free tier has the following limits:\n",
    "- 1 request per second (60 requests per minute)\n",
    "- 500,000 tokens per minute\n",
    "- 1 billion tokens per month\n",
    "\n",
    "This notebook implements:\n",
    "1. Key rotation to handle multiple API keys\n",
    "2. Automatic retry with exponential backoff\n",
    "3. Batch processing to optimize throughput\n",
    "4. Error handling to ensure robust processing\n",
    "\n",
    "If you need to process many tweets, consider:\n",
    "- Creating multiple API keys\n",
    "- Adjusting batch size and workers based on your needs\n",
    "- Processing tweets in smaller batches with appropriate delays\n"
   ]
  },
  {
   "cell_type": "code",
   "execution_count": 10,
   "id": "c0a0cf98",
   "metadata": {},
   "outputs": [],
   "source": [
    "def process_tweets(tweets, batch_size=4, max_workers=2):\n",
    "    \"\"\"Process tweets in batches with Mistral AI API\n",
    "    \n",
    "    Mistral AI free tier allows:\n",
    "    - 1 request per second (60 requests per minute)\n",
    "    - 500,000 tokens per minute\n",
    "    - 1 billion tokens per month\n",
    "    \"\"\"\n",
    "    all_sentiments = []\n",
    "    \n",
    "    # For demonstration, we'll process a reasonable number of tweets\n",
    "    # Adjust max_tweets if needed - 200 is safe for the free tier\n",
    "    max_tweets = min(200, len(tweets))\n",
    "    tweets = tweets[:max_tweets]\n",
    "    \n",
    "    print(f\"Processing {max_tweets} tweets using Mistral AI API with {len(key_manager.api_keys)} API keys\")\n",
    "    \n",
    "    with ThreadPoolExecutor(max_workers=max_workers) as executor:\n",
    "        for i in tqdm(range(0, len(tweets), batch_size), desc=\"Processing tweet batches\"):\n",
    "            batch = tweets[i:i+batch_size]\n",
    "            \n",
    "            try:\n",
    "                # Process tweets in parallel\n",
    "                results = list(executor.map(get_sentiment, batch))\n",
    "                all_sentiments.extend(results)\n",
    "                \n",
    "                # Add a short delay between batches to avoid rate limiting\n",
    "                time.sleep(2)\n",
    "                \n",
    "            except Exception as e:\n",
    "                print(f\"Error processing batch: {e}\")\n",
    "                # Add neutral sentiments for this batch in case of failure\n",
    "                all_sentiments.extend(['NEUTRAL'] * len(batch))\n",
    "                time.sleep(5)  # Wait a bit longer after an error\n",
    "                \n",
    "    # If we didn't get enough sentiments (due to errors), fill with NEUTRAL\n",
    "    if len(all_sentiments) < len(tweets):\n",
    "        all_sentiments.extend(['NEUTRAL'] * (len(tweets) - len(all_sentiments)))\n",
    "            \n",
    "    return all_sentiments\n"
   ]
  },
  {
   "cell_type": "code",
   "execution_count": 11,
   "id": "48ef2b4f",
   "metadata": {},
   "outputs": [
    {
     "name": "stdout",
     "output_type": "stream",
     "text": [
      "Test tweet: 'Breaking: Tesla stock hits all-time high after unexpected profit surge'\n",
      "Sentiment: STRONGLY_POSITIVE\n",
      "Using API key index: 0\n"
     ]
    }
   ],
   "source": [
    "\n",
    "# Test the sentiment analysis with key rotation\n",
    "test_tweet = \"Breaking: Tesla stock hits all-time high after unexpected profit surge\"\n",
    "sentiment = get_sentiment(test_tweet)\n",
    "print(f\"Test tweet: '{test_tweet}'\")\n",
    "print(f\"Sentiment: {sentiment}\")\n",
    "print(f\"Using API key index: {key_manager.current_index}\")\n"
   ]
  },
  {
   "cell_type": "code",
   "execution_count": 12,
   "id": "b23691ac",
   "metadata": {},
   "outputs": [],
   "source": [
    "def process_tweets(tweets, batch_size=4, max_workers=2):\n",
    "    \"\"\"Process tweets in batches with Mistral AI API\n",
    "    \n",
    "    Mistral AI free tier allows:\n",
    "    - 1 request per second (60 requests per minute)\n",
    "    - 500,000 tokens per minute\n",
    "    - 1 billion tokens per month\n",
    "    \"\"\"\n",
    "    all_sentiments = []\n",
    "    \n",
    "    # Process all tweets\n",
    "    # Removed limitation: max_tweets = min(200, len(tweets))\n",
    "    # Removed limitation: tweets = tweets[:max_tweets]\n",
    "    \n",
    "    print(f\"Processing {len(tweets)} tweets using Mistral AI API with {len(key_manager.api_keys)} API keys\")\n",
    "    \n",
    "    with ThreadPoolExecutor(max_workers=max_workers) as executor:\n",
    "        for i in tqdm(range(0, len(tweets), batch_size), desc=\"Processing tweet batches\"):\n",
    "            batch = tweets[i:i+batch_size]\n",
    "            \n",
    "            try:\n",
    "                # Process tweets in parallel\n",
    "                results = list(executor.map(get_sentiment, batch))\n",
    "                all_sentiments.extend(results)\n",
    "                \n",
    "                # Add a delay between batches to respect Mistral's 1 req/sec rate limit\n",
    "                # With batch_size and max_workers, adjust sleep time accordingly\n",
    "                time.sleep(batch_size * max_workers)  # Conservative approach\n",
    "                \n",
    "            except Exception as e:\n",
    "                print(f\"Error processing batch: {e}\")\n",
    "                # Add neutral sentiments for this batch in case of failure\n",
    "                all_sentiments.extend(['NEUTRAL'] * len(batch))\n",
    "                time.sleep(5)  # Wait a bit longer after an error\n",
    "                \n",
    "    # If we didn't get enough sentiments (due to errors), fill with NEUTRAL\n",
    "    if len(all_sentiments) < len(tweets):\n",
    "        all_sentiments.extend(['NEUTRAL'] * (len(tweets) - len(all_sentiments)))\n",
    "            \n",
    "    return all_sentiments"
   ]
  },
  {
   "cell_type": "code",
   "execution_count": 13,
   "id": "concurrent_function_cell",
   "metadata": {},
   "outputs": [],
   "source": [
    "def process_tweets_concurrent_resumed(tweets, start_batch=0, batch_size=4, max_workers=2, save_every=100, rate_limit_wait=5, force_reprocess=False):\n",
    "    \"\"\"Process tweets in batches with Mistral AI API using concurrent API keys, resuming from a specific batch\n",
    "    \n",
    "    Parameters:\n",
    "    -----------\n",
    "    tweets : list\n",
    "        List of tweets to process\n",
    "    start_batch : int\n",
    "        Batch index to start processing from (for resuming interrupted processing)\n",
    "    batch_size : int\n",
    "        Number of tweets to process in each batch\n",
    "    max_workers : int\n",
    "        Number of concurrent workers\n",
    "    save_every : int\n",
    "        Save results after processing this many tweets\n",
    "    rate_limit_wait : int\n",
    "        Default wait time in seconds when rate limited (default: 5)\n",
    "    force_reprocess : bool\n",
    "        If True, will reprocess tweets even if they already have sentiment values\n",
    "        \n",
    "    Returns:\n",
    "    --------\n",
    "    list : Sentiment labels for each tweet\n",
    "    \"\"\"\n",
    "    # Initialize the global key manager if it doesn't exist\n",
    "    global key_manager\n",
    "    if 'key_manager' not in globals():\n",
    "        key_manager = KeyManager()\n",
    "    \n",
    "    # Set model name if not defined\n",
    "    global MODEL\n",
    "    if 'MODEL' not in globals():\n",
    "        MODEL = \"mistral-small-latest\"\n",
    "    \n",
    "    # Load partial results if available\n",
    "    save_path = \"../data/test_partial.csv\"\n",
    "    try:\n",
    "        partial_df = pl.read_csv(save_path)\n",
    "        # Extract existing sentiments from the partial results\n",
    "        all_sentiments = partial_df['sentiment'].to_list()\n",
    "        print(f\"Loaded {len(all_sentiments)} existing sentiment labels\")\n",
    "    except:\n",
    "        # If no partial results exist, pre-allocate the array with None values\n",
    "        all_sentiments = [None] * len(tweets)\n",
    "        print(\"No existing results found, starting fresh\")\n",
    "    \n",
    "    # Sort tweet indices in descending order (process larger row numbers first)\n",
    "    tweet_indices = list(range(len(tweets)))\n",
    "    tweet_indices.sort(reverse=True)\n",
    "    \n",
    "    # Create a KeyManager for each worker\n",
    "    key_managers = []\n",
    "    \n",
    "    # Check how many API keys we have available\n",
    "    available_keys = key_manager.api_keys.copy()\n",
    "    num_keys = len(available_keys)\n",
    "    \n",
    "    print(f\"Using {num_keys} API keys concurrently for processing {len(tweets)} tweets\")\n",
    "    print(f\"Resuming from batch {start_batch}\")\n",
    "    \n",
    "    if num_keys == 0:\n",
    "        raise ValueError(\"No API keys available\")\n",
    "    \n",
    "    # Create a manager for each key\n",
    "    for i, key in enumerate(available_keys):\n",
    "        # Create a separate manager for each key\n",
    "        km = KeyManager()\n",
    "        # Replace the API keys with just one key\n",
    "        km.api_keys = [key]\n",
    "        km.current_index = 0\n",
    "        key_managers.append(km)\n",
    "    \n",
    "    # If force_reprocess is True, clear the sentiments for batches we want to reprocess\n",
    "    if force_reprocess and start_batch > 0:\n",
    "        # Create batches first to identify which indices to clear\n",
    "        temp_batches = []\n",
    "        for i in range(0, len(tweet_indices), batch_size):\n",
    "            batch_indices = tweet_indices[i:i+batch_size]\n",
    "            temp_batches.append(batch_indices)\n",
    "        \n",
    "        # Clear sentiments for the batches we want to reprocess\n",
    "        for batch_idx in range(start_batch, len(temp_batches)):\n",
    "            for idx in temp_batches[batch_idx]:\n",
    "                if idx < len(all_sentiments):\n",
    "                    all_sentiments[idx] = None\n",
    "        \n",
    "        print(f\"Cleared sentiments for batches starting from {start_batch} to force reprocessing\")\n",
    "    \n",
    "    # Function to process a tweet with a specific key manager\n",
    "    def process_tweet_with_key(args):\n",
    "        idx, tweet, key_idx = args\n",
    "        # Skip already processed tweets (with non-None sentiments)\n",
    "        if not force_reprocess and idx < len(all_sentiments) and all_sentiments[idx] is not None:\n",
    "            return (idx, all_sentiments[idx])\n",
    "        \n",
    "        # Get the key manager for this worker\n",
    "        km = key_managers[key_idx % num_keys]\n",
    "        \n",
    "        # Define a local get_sentiment function that uses this specific key manager\n",
    "        def local_get_sentiment(text, retries=3):\n",
    "            if not text or len(str(text).strip()) < 3:\n",
    "                return 'NEUTRAL'\n",
    "            \n",
    "            for attempt in range(retries):\n",
    "                try:\n",
    "                    # Setup the API request for Mistral\n",
    "                    headers = km.get_current_headers()\n",
    "                    payload = {\n",
    "                        \"model\": MODEL,\n",
    "                        \"temperature\": 0.0,  # Deterministic output\n",
    "                        \"max_tokens\": 10,    # We only need one word\n",
    "                        \"messages\": setup_prompt(text)\n",
    "                    }\n",
    "                    \n",
    "                    # Make the API request\n",
    "                    response = requests.post(\n",
    "                        km.base_url,\n",
    "                        headers=headers,\n",
    "                        json=payload\n",
    "                    )\n",
    "                    \n",
    "                    if response.status_code == 200:\n",
    "                        # Extract sentiment from Mistral's response\n",
    "                        response_json = response.json()\n",
    "                        sentiment = response_json['choices'][0]['message']['content'].strip().upper()\n",
    "                        \n",
    "                        # Validate the response\n",
    "                        valid_labels = [\n",
    "                            'STRONGLY_POSITIVE', 'POSITIVE', 'NEUTRAL', 'NEGATIVE', 'STRONGLY_NEGATIVE'\n",
    "                        ]\n",
    "                        \n",
    "                        if sentiment in valid_labels:\n",
    "                            return sentiment\n",
    "                        else:\n",
    "                            print(f\"Invalid sentiment received: {sentiment}, defaulting to NEUTRAL\")\n",
    "                            return 'NEUTRAL'\n",
    "                    elif response.status_code == 429:  # Rate limit\n",
    "                        # If rate limited, just wait instead of switching keys\n",
    "                        # Always use rate_limit_wait as fallback\n",
    "                        retry_after = int(response.headers.get('Retry-After', rate_limit_wait))\n",
    "                        print(f\"API key {key_idx+1} rate limited. Waiting {retry_after} seconds.\")\n",
    "                        time.sleep(retry_after)\n",
    "                        if attempt < retries - 1:\n",
    "                            continue\n",
    "                        else:\n",
    "                            return 'NEUTRAL'\n",
    "                    else:\n",
    "                        print(f\"API error: {response.status_code} - {response.text}\")\n",
    "                        if attempt < retries - 1:\n",
    "                            time.sleep(2)  # Wait before retry\n",
    "                            continue\n",
    "                        else:\n",
    "                            return 'NEUTRAL'\n",
    "                        \n",
    "                except Exception as e:\n",
    "                    error_str = str(e).lower()\n",
    "                    # Check for rate limiting errors\n",
    "                    if \"quota\" in error_str or \"rate\" in error_str or \"429\" in error_str:\n",
    "                        # Extract retry time if available (default to rate_limit_wait if not found)\n",
    "                        retry_after = rate_limit_wait\n",
    "                        if \"retryafter\" in error_str or \"retry-after\" in error_str or \"retry_after\" in error_str:\n",
    "                            try:\n",
    "                                # Try to extract the retry time\n",
    "                                matches = re.findall(r'retry.*?(\\d+)', error_str)\n",
    "                                if matches:\n",
    "                                    retry_after = int(matches[0])\n",
    "                            except:\n",
    "                                pass\n",
    "                        \n",
    "                        # Just wait instead of switching keys\n",
    "                        wait_time = min(2 ** attempt * 2, retry_after)  # Use smaller exponential backoff\n",
    "                        print(f\"Rate limit hit for key {key_idx+1} - waiting {wait_time}s before retry ({attempt+1}/{retries})\")\n",
    "                        time.sleep(wait_time)\n",
    "                        if attempt < retries - 1:\n",
    "                            continue\n",
    "                            \n",
    "                    if attempt == retries - 1:\n",
    "                        print(f\"Error processing text: {str(text)[:50]}...\\nError: {str(e)}\")\n",
    "                        return 'NEUTRAL'\n",
    "                    time.sleep(2)  # Wait before retry\n",
    "            \n",
    "            return 'NEUTRAL'\n",
    "        \n",
    "        # Process the tweet\n",
    "        try:\n",
    "            result = local_get_sentiment(tweet)\n",
    "            return (idx, result)\n",
    "        except Exception as e:\n",
    "            print(f\"Error processing tweet {idx}: {e}\")\n",
    "            return (idx, 'NEUTRAL')\n",
    "    \n",
    "    # Create batches for processing\n",
    "    batches = []\n",
    "    for i in range(0, len(tweet_indices), batch_size):\n",
    "        batch_indices = tweet_indices[i:i+batch_size]\n",
    "        # More balanced key assignment - round robin style\n",
    "        batch = [(idx, tweets[idx], (i + idx) % num_keys) for idx in batch_indices]\n",
    "        batches.append(batch)\n",
    "    \n",
    "    # Process batches and periodically save results\n",
    "    # Calculate the processed count based on non-None values in all_sentiments\n",
    "    processed_count = sum(1 for s in all_sentiments if s is not None)\n",
    "    print(f\"Found {processed_count} previously processed tweets\")\n",
    "    \n",
    "    os.makedirs(os.path.dirname(save_path), exist_ok=True)\n",
    "    \n",
    "    # Skip to the starting batch\n",
    "    batches = batches[start_batch:]\n",
    "    print(f\"Skipping {start_batch} batches, {start_batch * batch_size} tweets\")\n",
    "    \n",
    "    with ThreadPoolExecutor(max_workers=max_workers) as executor:\n",
    "        for batch_idx, batch in enumerate(tqdm(batches, desc=f\"Processing tweet batches (starting from batch {start_batch})\")):\n",
    "            try:\n",
    "                # Process batch\n",
    "                results = list(executor.map(process_tweet_with_key, batch))\n",
    "                \n",
    "                # Update results\n",
    "                for idx, sentiment in results:\n",
    "                    # Only update if it wasn't already set (avoiding repeat API calls)\n",
    "                    if idx < len(all_sentiments) and (all_sentiments[idx] is None or force_reprocess):\n",
    "                        all_sentiments[idx] = sentiment\n",
    "                        processed_count += 1\n",
    "                \n",
    "                # Periodically save results\n",
    "                if (processed_count % save_every < batch_size) or (batch_idx % 50 == 0 and batch_idx > 0):\n",
    "                    # Create a temporary dataframe with current results\n",
    "                    try:\n",
    "                        # Try to load the original dataframe\n",
    "                        global df\n",
    "                        if 'df' not in globals():\n",
    "                            # If df is not defined globally, create a stub\n",
    "                            # In actual use, you would need to make sure df is defined\n",
    "                            # before calling this function\n",
    "                            raise NameError(\"df not defined\")\n",
    "                        \n",
    "                        temp_df = df.clone()\n",
    "                        # Only include processed tweets (non-None sentiments)\n",
    "                        valid_sentiments = [s if s is not None else 'NEUTRAL' for s in all_sentiments]\n",
    "                        temp_df = temp_df.with_columns(pl.Series(name='sentiment', values=valid_sentiments))\n",
    "                        # Save to CSV\n",
    "                        temp_df.write_csv(save_path)\n",
    "                        print(f\"\\nSaved {processed_count} processed tweets to {save_path}\")\n",
    "                    except Exception as e:\n",
    "                        print(f\"Error saving results: {e}\")\n",
    "                    \n",
    "                    # Save progress information to a JSON file\n",
    "                    import json\n",
    "                    progress = {\n",
    "                        \"current_batch\": start_batch + batch_idx + 1,\n",
    "                        \"processed_count\": processed_count,\n",
    "                        \"total_batches\": len(batches) + start_batch,\n",
    "                        \"timestamp\": time.strftime(\"%Y-%m-%d %H:%M:%S\")\n",
    "                    }\n",
    "                    with open(\"../data/labeled_stock_tweets_progress.json\", \"w\") as f:\n",
    "                        json.dump(progress, f)\n",
    "                \n",
    "                # Add a short delay between batches to avoid API overload\n",
    "                # Uncomment if needed\n",
    "                # time.sleep(0.5)\n",
    "                \n",
    "            except Exception as e:\n",
    "                print(f\"Error processing batch: {e}\")\n",
    "                # Continue with the next batch\n",
    "                time.sleep(5)  # Wait a bit longer after an error\n",
    "    \n",
    "    # Replace any None values with NEUTRAL\n",
    "    all_sentiments = [s if s is not None else 'NEUTRAL' for s in all_sentiments]\n",
    "    \n",
    "    return all_sentiments"
   ]
  },
  {
   "cell_type": "code",
   "execution_count": 14,
   "id": "10544ce6",
   "metadata": {},
   "outputs": [
    {
     "name": "stdout",
     "output_type": "stream",
     "text": [
      "Loaded 7000 existing sentiment labels\n",
      "Using 1 API keys concurrently for processing 7000 tweets\n",
      "Resuming from batch 1674\n",
      "Loaded 1 Mistral API keys.\n",
      "Cleared sentiments for batches starting from 1674 to force reprocessing\n",
      "Found 6696 previously processed tweets\n",
      "Skipping 1674 batches, 6696 tweets\n"
     ]
    },
    {
     "name": "stderr",
     "output_type": "stream",
     "text": [
      "Processing tweet batches (starting from batch 1674):   0%|          | 0/76 [00:00<?, ?it/s]"
     ]
    },
    {
     "name": "stdout",
     "output_type": "stream",
     "text": [
      "API key 1 rate limited. Waiting 0 seconds.\n"
     ]
    },
    {
     "name": "stderr",
     "output_type": "stream",
     "text": [
      "Processing tweet batches (starting from batch 1674):   1%|▏         | 1/76 [00:01<01:36,  1.29s/it]"
     ]
    },
    {
     "name": "stdout",
     "output_type": "stream",
     "text": [
      "\n",
      "Saved 6700 processed tweets to ../data/test_partial.csv\n",
      "API key 1 rate limited. Waiting 0 seconds.\n",
      "API key 1 rate limited. Waiting 0 seconds.\n",
      "API key 1 rate limited. Waiting 0 seconds.\n",
      "API key 1 rate limited. Waiting 0 seconds.\n",
      "API key 1 rate limited. Waiting 0 seconds.\n"
     ]
    },
    {
     "name": "stderr",
     "output_type": "stream",
     "text": [
      "Processing tweet batches (starting from batch 1674):   3%|▎         | 2/76 [00:03<02:25,  1.96s/it]"
     ]
    },
    {
     "name": "stdout",
     "output_type": "stream",
     "text": [
      "API key 1 rate limited. Waiting 0 seconds.\n",
      "API key 1 rate limited. Waiting 0 seconds.\n",
      "API key 1 rate limited. Waiting 0 seconds.\n",
      "API key 1 rate limited. Waiting 0 seconds.\n"
     ]
    },
    {
     "name": "stderr",
     "output_type": "stream",
     "text": [
      "Processing tweet batches (starting from batch 1674):   4%|▍         | 3/76 [00:05<02:24,  1.98s/it]"
     ]
    },
    {
     "name": "stdout",
     "output_type": "stream",
     "text": [
      "API key 1 rate limited. Waiting 0 seconds.\n",
      "API key 1 rate limited. Waiting 0 seconds.\n",
      "API key 1 rate limited. Waiting 0 seconds.\n"
     ]
    },
    {
     "name": "stderr",
     "output_type": "stream",
     "text": [
      "Processing tweet batches (starting from batch 1674):   5%|▌         | 4/76 [00:07<02:19,  1.94s/it]"
     ]
    },
    {
     "name": "stdout",
     "output_type": "stream",
     "text": [
      "API key 1 rate limited. Waiting 0 seconds.\n",
      "API key 1 rate limited. Waiting 0 seconds.\n",
      "API key 1 rate limited. Waiting 0 seconds.\n",
      "API key 1 rate limited. Waiting 0 seconds.\n",
      "API key 1 rate limited. Waiting 0 seconds.\n",
      "API key 1 rate limited. Waiting 0 seconds.\n",
      "API key 1 rate limited. Waiting 0 seconds.\n"
     ]
    },
    {
     "name": "stderr",
     "output_type": "stream",
     "text": [
      "Processing tweet batches (starting from batch 1674):   7%|▋         | 5/76 [00:10<02:39,  2.24s/it]"
     ]
    },
    {
     "name": "stdout",
     "output_type": "stream",
     "text": [
      "API key 1 rate limited. Waiting 0 seconds.\n"
     ]
    },
    {
     "name": "stderr",
     "output_type": "stream",
     "text": [
      "Processing tweet batches (starting from batch 1674):   8%|▊         | 6/76 [00:12<02:37,  2.24s/it]"
     ]
    },
    {
     "name": "stdout",
     "output_type": "stream",
     "text": [
      "API key 1 rate limited. Waiting 0 seconds.\n",
      "API key 1 rate limited. Waiting 0 seconds.\n",
      "API key 1 rate limited. Waiting 0 seconds.\n"
     ]
    },
    {
     "name": "stderr",
     "output_type": "stream",
     "text": [
      "Processing tweet batches (starting from batch 1674):   9%|▉         | 7/76 [00:14<02:28,  2.15s/it]"
     ]
    },
    {
     "name": "stdout",
     "output_type": "stream",
     "text": [
      "API key 1 rate limited. Waiting 0 seconds.\n",
      "API key 1 rate limited. Waiting 0 seconds.\n",
      "API key 1 rate limited. Waiting 0 seconds.\n",
      "API key 1 rate limited. Waiting 0 seconds.\n"
     ]
    },
    {
     "name": "stderr",
     "output_type": "stream",
     "text": [
      "Processing tweet batches (starting from batch 1674):  11%|█         | 8/76 [00:16<02:24,  2.13s/it]"
     ]
    },
    {
     "name": "stdout",
     "output_type": "stream",
     "text": [
      "API key 1 rate limited. Waiting 0 seconds.\n",
      "API key 1 rate limited. Waiting 0 seconds.\n",
      "API key 1 rate limited. Waiting 0 seconds.\n",
      "API key 1 rate limited. Waiting 0 seconds.\n"
     ]
    },
    {
     "name": "stderr",
     "output_type": "stream",
     "text": [
      "Processing tweet batches (starting from batch 1674):  12%|█▏        | 9/76 [00:18<02:15,  2.03s/it]"
     ]
    },
    {
     "name": "stdout",
     "output_type": "stream",
     "text": [
      "API key 1 rate limited. Waiting 0 seconds.\n",
      "API key 1 rate limited. Waiting 0 seconds.\n",
      "API key 1 rate limited. Waiting 0 seconds.\n",
      "API key 1 rate limited. Waiting 0 seconds.\n"
     ]
    },
    {
     "name": "stderr",
     "output_type": "stream",
     "text": [
      "Processing tweet batches (starting from batch 1674):  13%|█▎        | 10/76 [00:19<01:59,  1.82s/it]"
     ]
    },
    {
     "name": "stdout",
     "output_type": "stream",
     "text": [
      "API key 1 rate limited. Waiting 0 seconds.\n",
      "API key 1 rate limited. Waiting 0 seconds.API key 1 rate limited. Waiting 0 seconds.\n",
      "\n",
      "API key 1 rate limited. Waiting 0 seconds.\n",
      "API key 1 rate limited. Waiting 0 seconds.\n"
     ]
    },
    {
     "name": "stderr",
     "output_type": "stream",
     "text": [
      "Processing tweet batches (starting from batch 1674):  14%|█▍        | 11/76 [00:21<01:58,  1.82s/it]"
     ]
    },
    {
     "name": "stdout",
     "output_type": "stream",
     "text": [
      "API key 1 rate limited. Waiting 0 seconds.\n"
     ]
    },
    {
     "name": "stderr",
     "output_type": "stream",
     "text": [
      "Processing tweet batches (starting from batch 1674):  16%|█▌        | 12/76 [00:24<02:20,  2.20s/it]"
     ]
    },
    {
     "name": "stdout",
     "output_type": "stream",
     "text": [
      "API key 1 rate limited. Waiting 0 seconds.\n",
      "API key 1 rate limited. Waiting 0 seconds.\n"
     ]
    },
    {
     "name": "stderr",
     "output_type": "stream",
     "text": [
      "Processing tweet batches (starting from batch 1674):  17%|█▋        | 13/76 [00:26<02:04,  1.97s/it]"
     ]
    },
    {
     "name": "stdout",
     "output_type": "stream",
     "text": [
      "API key 1 rate limited. Waiting 0 seconds.\n"
     ]
    },
    {
     "name": "stderr",
     "output_type": "stream",
     "text": [
      "Processing tweet batches (starting from batch 1674):  18%|█▊        | 14/76 [00:27<01:49,  1.76s/it]"
     ]
    },
    {
     "name": "stdout",
     "output_type": "stream",
     "text": [
      "API key 1 rate limited. Waiting 0 seconds.\n",
      "API key 1 rate limited. Waiting 0 seconds.\n",
      "API key 1 rate limited. Waiting 0 seconds.\n",
      "API key 1 rate limited. Waiting 0 seconds.\n"
     ]
    },
    {
     "name": "stderr",
     "output_type": "stream",
     "text": [
      "Processing tweet batches (starting from batch 1674):  21%|██        | 16/76 [00:32<02:12,  2.22s/it]"
     ]
    },
    {
     "name": "stdout",
     "output_type": "stream",
     "text": [
      "API key 1 rate limited. Waiting 0 seconds.\n",
      "API key 1 rate limited. Waiting 0 seconds.\n",
      "API key 1 rate limited. Waiting 0 seconds.\n",
      "API key 1 rate limited. Waiting 0 seconds.\n",
      "API key 1 rate limited. Waiting 0 seconds.\n"
     ]
    },
    {
     "name": "stderr",
     "output_type": "stream",
     "text": [
      "Processing tweet batches (starting from batch 1674):  22%|██▏       | 17/76 [00:34<02:03,  2.10s/it]"
     ]
    },
    {
     "name": "stdout",
     "output_type": "stream",
     "text": [
      "API key 1 rate limited. Waiting 0 seconds.\n",
      "API key 1 rate limited. Waiting 0 seconds.\n"
     ]
    },
    {
     "name": "stderr",
     "output_type": "stream",
     "text": [
      "Processing tweet batches (starting from batch 1674):  24%|██▎       | 18/76 [00:35<01:48,  1.86s/it]"
     ]
    },
    {
     "name": "stdout",
     "output_type": "stream",
     "text": [
      "API key 1 rate limited. Waiting 0 seconds.\n",
      "API key 1 rate limited. Waiting 0 seconds.\n"
     ]
    },
    {
     "name": "stderr",
     "output_type": "stream",
     "text": [
      "Processing tweet batches (starting from batch 1674):  25%|██▌       | 19/76 [00:37<01:35,  1.68s/it]"
     ]
    },
    {
     "name": "stdout",
     "output_type": "stream",
     "text": [
      "API key 1 rate limited. Waiting 0 seconds.\n",
      "API key 1 rate limited. Waiting 0 seconds.API key 1 rate limited. Waiting 0 seconds.\n",
      "\n",
      "API key 1 rate limited. Waiting 0 seconds.\n"
     ]
    },
    {
     "name": "stderr",
     "output_type": "stream",
     "text": [
      "Processing tweet batches (starting from batch 1674):  26%|██▋       | 20/76 [00:38<01:32,  1.65s/it]"
     ]
    },
    {
     "name": "stdout",
     "output_type": "stream",
     "text": [
      "API key 1 rate limited. Waiting 0 seconds.\n",
      "API key 1 rate limited. Waiting 0 seconds.API key 1 rate limited. Waiting 0 seconds.\n",
      "\n",
      "API key 1 rate limited. Waiting 0 seconds.\n",
      "API key 1 rate limited. Waiting 0 seconds.\n",
      "API key 1 rate limited. Waiting 0 seconds.\n"
     ]
    },
    {
     "name": "stderr",
     "output_type": "stream",
     "text": [
      "Processing tweet batches (starting from batch 1674):  28%|██▊       | 21/76 [00:40<01:32,  1.68s/it]"
     ]
    },
    {
     "name": "stdout",
     "output_type": "stream",
     "text": [
      "API key 1 rate limited. Waiting 0 seconds.\n",
      "API key 1 rate limited. Waiting 0 seconds.\n",
      "API key 1 rate limited. Waiting 0 seconds.\n",
      "API key 1 rate limited. Waiting 0 seconds.\n",
      "API key 1 rate limited. Waiting 0 seconds.\n"
     ]
    },
    {
     "name": "stderr",
     "output_type": "stream",
     "text": [
      "Processing tweet batches (starting from batch 1674):  29%|██▉       | 22/76 [00:42<01:38,  1.83s/it]"
     ]
    },
    {
     "name": "stdout",
     "output_type": "stream",
     "text": [
      "API key 1 rate limited. Waiting 0 seconds.\n"
     ]
    },
    {
     "name": "stderr",
     "output_type": "stream",
     "text": [
      "Processing tweet batches (starting from batch 1674):  30%|███       | 23/76 [00:44<01:32,  1.74s/it]"
     ]
    },
    {
     "name": "stdout",
     "output_type": "stream",
     "text": [
      "API key 1 rate limited. Waiting 0 seconds.\n",
      "API key 1 rate limited. Waiting 0 seconds.\n",
      "API key 1 rate limited. Waiting 0 seconds.\n",
      "API key 1 rate limited. Waiting 0 seconds.\n"
     ]
    },
    {
     "name": "stderr",
     "output_type": "stream",
     "text": [
      "Processing tweet batches (starting from batch 1674):  32%|███▏      | 24/76 [00:45<01:31,  1.75s/it]"
     ]
    },
    {
     "name": "stdout",
     "output_type": "stream",
     "text": [
      "API key 1 rate limited. Waiting 0 seconds.\n",
      "API key 1 rate limited. Waiting 0 seconds.\n",
      "API key 1 rate limited. Waiting 0 seconds.\n",
      "API key 1 rate limited. Waiting 0 seconds.\n",
      "API key 1 rate limited. Waiting 0 seconds.\n",
      "API key 1 rate limited. Waiting 0 seconds.\n",
      "API key 1 rate limited. Waiting 0 seconds.\n"
     ]
    },
    {
     "name": "stderr",
     "output_type": "stream",
     "text": [
      "Processing tweet batches (starting from batch 1674):  33%|███▎      | 25/76 [00:48<01:44,  2.05s/it]"
     ]
    },
    {
     "name": "stdout",
     "output_type": "stream",
     "text": [
      "API key 1 rate limited. Waiting 0 seconds.\n",
      "API key 1 rate limited. Waiting 0 seconds.\n",
      "API key 1 rate limited. Waiting 0 seconds.\n"
     ]
    },
    {
     "name": "stderr",
     "output_type": "stream",
     "text": [
      "Processing tweet batches (starting from batch 1674):  34%|███▍      | 26/76 [00:51<02:00,  2.40s/it]"
     ]
    },
    {
     "name": "stdout",
     "output_type": "stream",
     "text": [
      "\n",
      "Saved 6800 processed tweets to ../data/test_partial.csv\n",
      "API key 1 rate limited. Waiting 0 seconds.\n",
      "API key 1 rate limited. Waiting 0 seconds.\n",
      "API key 1 rate limited. Waiting 0 seconds.\n",
      "API key 1 rate limited. Waiting 0 seconds.\n"
     ]
    },
    {
     "name": "stderr",
     "output_type": "stream",
     "text": [
      "Processing tweet batches (starting from batch 1674):  36%|███▌      | 27/76 [00:54<01:55,  2.36s/it]"
     ]
    },
    {
     "name": "stdout",
     "output_type": "stream",
     "text": [
      "API key 1 rate limited. Waiting 0 seconds.\n",
      "API key 1 rate limited. Waiting 0 seconds.\n",
      "API key 1 rate limited. Waiting 0 seconds.\n",
      "API key 1 rate limited. Waiting 0 seconds.\n"
     ]
    },
    {
     "name": "stderr",
     "output_type": "stream",
     "text": [
      "Processing tweet batches (starting from batch 1674):  37%|███▋      | 28/76 [00:56<01:47,  2.25s/it]"
     ]
    },
    {
     "name": "stdout",
     "output_type": "stream",
     "text": [
      "API key 1 rate limited. Waiting 0 seconds.\n",
      "API key 1 rate limited. Waiting 0 seconds.\n",
      "API key 1 rate limited. Waiting 0 seconds.\n"
     ]
    },
    {
     "name": "stderr",
     "output_type": "stream",
     "text": [
      "Processing tweet batches (starting from batch 1674):  38%|███▊      | 29/76 [00:57<01:37,  2.07s/it]"
     ]
    },
    {
     "name": "stdout",
     "output_type": "stream",
     "text": [
      "API key 1 rate limited. Waiting 0 seconds.\n",
      "API key 1 rate limited. Waiting 0 seconds.\n"
     ]
    },
    {
     "name": "stderr",
     "output_type": "stream",
     "text": [
      "Processing tweet batches (starting from batch 1674):  39%|███▉      | 30/76 [00:59<01:24,  1.83s/it]"
     ]
    },
    {
     "name": "stdout",
     "output_type": "stream",
     "text": [
      "API key 1 rate limited. Waiting 0 seconds.\n",
      "API key 1 rate limited. Waiting 0 seconds.\n",
      "API key 1 rate limited. Waiting 0 seconds.\n"
     ]
    },
    {
     "name": "stderr",
     "output_type": "stream",
     "text": [
      "Processing tweet batches (starting from batch 1674):  41%|████      | 31/76 [01:00<01:17,  1.73s/it]"
     ]
    },
    {
     "name": "stdout",
     "output_type": "stream",
     "text": [
      "API key 1 rate limited. Waiting 0 seconds.\n",
      "API key 1 rate limited. Waiting 0 seconds.\n",
      "API key 1 rate limited. Waiting 0 seconds.\n"
     ]
    },
    {
     "name": "stderr",
     "output_type": "stream",
     "text": [
      "Processing tweet batches (starting from batch 1674):  42%|████▏     | 32/76 [01:02<01:18,  1.79s/it]"
     ]
    },
    {
     "name": "stdout",
     "output_type": "stream",
     "text": [
      "API key 1 rate limited. Waiting 0 seconds.\n",
      "API key 1 rate limited. Waiting 0 seconds.\n",
      "API key 1 rate limited. Waiting 0 seconds.\n",
      "API key 1 rate limited. Waiting 0 seconds.\n",
      "API key 1 rate limited. Waiting 0 seconds.\n"
     ]
    },
    {
     "name": "stderr",
     "output_type": "stream",
     "text": [
      "Processing tweet batches (starting from batch 1674):  43%|████▎     | 33/76 [01:04<01:19,  1.85s/it]"
     ]
    },
    {
     "name": "stdout",
     "output_type": "stream",
     "text": [
      "API key 1 rate limited. Waiting 0 seconds.\n",
      "API key 1 rate limited. Waiting 0 seconds.\n",
      "API key 1 rate limited. Waiting 0 seconds.\n",
      "API key 1 rate limited. Waiting 0 seconds.\n",
      "API key 1 rate limited. Waiting 0 seconds.\n"
     ]
    },
    {
     "name": "stderr",
     "output_type": "stream",
     "text": [
      "Processing tweet batches (starting from batch 1674):  45%|████▍     | 34/76 [01:06<01:19,  1.88s/it]"
     ]
    },
    {
     "name": "stdout",
     "output_type": "stream",
     "text": [
      "API key 1 rate limited. Waiting 0 seconds.\n",
      "API key 1 rate limited. Waiting 0 seconds.\n",
      "API key 1 rate limited. Waiting 0 seconds.\n",
      "API key 1 rate limited. Waiting 0 seconds.\n"
     ]
    },
    {
     "name": "stderr",
     "output_type": "stream",
     "text": [
      "Processing tweet batches (starting from batch 1674):  46%|████▌     | 35/76 [01:07<01:13,  1.79s/it]"
     ]
    },
    {
     "name": "stdout",
     "output_type": "stream",
     "text": [
      "API key 1 rate limited. Waiting 0 seconds.\n",
      "API key 1 rate limited. Waiting 0 seconds.\n"
     ]
    },
    {
     "name": "stderr",
     "output_type": "stream",
     "text": [
      "Processing tweet batches (starting from batch 1674):  47%|████▋     | 36/76 [01:09<01:05,  1.65s/it]"
     ]
    },
    {
     "name": "stdout",
     "output_type": "stream",
     "text": [
      "API key 1 rate limited. Waiting 0 seconds.API key 1 rate limited. Waiting 0 seconds.\n",
      "\n",
      "API key 1 rate limited. Waiting 0 seconds.\n",
      "API key 1 rate limited. Waiting 0 seconds.\n",
      "API key 1 rate limited. Waiting 0 seconds.\n"
     ]
    },
    {
     "name": "stderr",
     "output_type": "stream",
     "text": [
      "Processing tweet batches (starting from batch 1674):  49%|████▊     | 37/76 [01:10<01:03,  1.64s/it]"
     ]
    },
    {
     "name": "stdout",
     "output_type": "stream",
     "text": [
      "API key 1 rate limited. Waiting 0 seconds.\n",
      "API key 1 rate limited. Waiting 0 seconds.\n",
      "API key 1 rate limited. Waiting 0 seconds.\n",
      "API key 1 rate limited. Waiting 0 seconds.\n",
      "API key 1 rate limited. Waiting 0 seconds.\n",
      "API key 1 rate limited. Waiting 0 seconds.\n",
      "API key 1 rate limited. Waiting 0 seconds.\n"
     ]
    },
    {
     "name": "stderr",
     "output_type": "stream",
     "text": [
      "Processing tweet batches (starting from batch 1674):  50%|█████     | 38/76 [01:12<01:04,  1.69s/it]"
     ]
    },
    {
     "name": "stdout",
     "output_type": "stream",
     "text": [
      "API key 1 rate limited. Waiting 0 seconds.API key 1 rate limited. Waiting 0 seconds.\n",
      "\n",
      "API key 1 rate limited. Waiting 0 seconds.\n",
      "API key 1 rate limited. Waiting 0 seconds.\n"
     ]
    },
    {
     "name": "stderr",
     "output_type": "stream",
     "text": [
      "Processing tweet batches (starting from batch 1674):  51%|█████▏    | 39/76 [01:14<01:06,  1.79s/it]"
     ]
    },
    {
     "name": "stdout",
     "output_type": "stream",
     "text": [
      "API key 1 rate limited. Waiting 0 seconds.\n",
      "API key 1 rate limited. Waiting 0 seconds.\n"
     ]
    },
    {
     "name": "stderr",
     "output_type": "stream",
     "text": [
      "Processing tweet batches (starting from batch 1674):  53%|█████▎    | 40/76 [01:18<01:30,  2.52s/it]"
     ]
    },
    {
     "name": "stdout",
     "output_type": "stream",
     "text": [
      "API key 1 rate limited. Waiting 0 seconds.\n",
      "API key 1 rate limited. Waiting 0 seconds.\n",
      "API key 1 rate limited. Waiting 0 seconds.\n",
      "API key 1 rate limited. Waiting 0 seconds.\n"
     ]
    },
    {
     "name": "stderr",
     "output_type": "stream",
     "text": [
      "Processing tweet batches (starting from batch 1674):  54%|█████▍    | 41/76 [02:34<14:16, 24.48s/it]"
     ]
    },
    {
     "name": "stdout",
     "output_type": "stream",
     "text": [
      "API key 1 rate limited. Waiting 0 seconds.\n",
      "API key 1 rate limited. Waiting 0 seconds.\n"
     ]
    },
    {
     "name": "stderr",
     "output_type": "stream",
     "text": [
      "Processing tweet batches (starting from batch 1674):  55%|█████▌    | 42/76 [02:36<10:04, 17.78s/it]"
     ]
    },
    {
     "name": "stdout",
     "output_type": "stream",
     "text": [
      "API key 1 rate limited. Waiting 0 seconds.\n",
      "API key 1 rate limited. Waiting 0 seconds.\n",
      "API key 1 rate limited. Waiting 0 seconds.\n",
      "API key 1 rate limited. Waiting 0 seconds.\n",
      "API key 1 rate limited. Waiting 0 seconds.\n"
     ]
    },
    {
     "name": "stderr",
     "output_type": "stream",
     "text": [
      "Processing tweet batches (starting from batch 1674):  57%|█████▋    | 43/76 [02:38<07:11, 13.06s/it]"
     ]
    },
    {
     "name": "stdout",
     "output_type": "stream",
     "text": [
      "API key 1 rate limited. Waiting 0 seconds.\n",
      "API key 1 rate limited. Waiting 0 seconds.\n",
      "API key 1 rate limited. Waiting 0 seconds.\n"
     ]
    },
    {
     "name": "stderr",
     "output_type": "stream",
     "text": [
      "Processing tweet batches (starting from batch 1674):  58%|█████▊    | 44/76 [02:40<05:05,  9.54s/it]"
     ]
    },
    {
     "name": "stdout",
     "output_type": "stream",
     "text": [
      "API key 1 rate limited. Waiting 0 seconds.\n",
      "API key 1 rate limited. Waiting 0 seconds.\n",
      "API key 1 rate limited. Waiting 0 seconds.\n",
      "API key 1 rate limited. Waiting 0 seconds.\n"
     ]
    },
    {
     "name": "stderr",
     "output_type": "stream",
     "text": [
      "Processing tweet batches (starting from batch 1674):  59%|█████▉    | 45/76 [02:42<03:47,  7.35s/it]"
     ]
    },
    {
     "name": "stdout",
     "output_type": "stream",
     "text": [
      "API key 1 rate limited. Waiting 0 seconds.\n",
      "API key 1 rate limited. Waiting 0 seconds.\n",
      "API key 1 rate limited. Waiting 0 seconds.\n",
      "API key 1 rate limited. Waiting 0 seconds.\n"
     ]
    },
    {
     "name": "stderr",
     "output_type": "stream",
     "text": [
      "Processing tweet batches (starting from batch 1674):  61%|██████    | 46/76 [02:44<02:56,  5.88s/it]"
     ]
    },
    {
     "name": "stdout",
     "output_type": "stream",
     "text": [
      "API key 1 rate limited. Waiting 0 seconds.\n",
      "API key 1 rate limited. Waiting 0 seconds.\n",
      "API key 1 rate limited. Waiting 0 seconds.\n",
      "API key 1 rate limited. Waiting 0 seconds.\n",
      "API key 1 rate limited. Waiting 0 seconds.\n"
     ]
    },
    {
     "name": "stderr",
     "output_type": "stream",
     "text": [
      "Processing tweet batches (starting from batch 1674):  62%|██████▏   | 47/76 [02:47<02:21,  4.88s/it]"
     ]
    },
    {
     "name": "stdout",
     "output_type": "stream",
     "text": [
      "API key 1 rate limited. Waiting 0 seconds.API key 1 rate limited. Waiting 0 seconds.\n",
      "\n"
     ]
    },
    {
     "name": "stderr",
     "output_type": "stream",
     "text": [
      "Processing tweet batches (starting from batch 1674):  63%|██████▎   | 48/76 [02:49<01:49,  3.91s/it]"
     ]
    },
    {
     "name": "stdout",
     "output_type": "stream",
     "text": [
      "API key 1 rate limited. Waiting 0 seconds.\n",
      "API key 1 rate limited. Waiting 0 seconds.\n",
      "API key 1 rate limited. Waiting 0 seconds.\n",
      "API key 1 rate limited. Waiting 0 seconds.\n"
     ]
    },
    {
     "name": "stderr",
     "output_type": "stream",
     "text": [
      "Processing tweet batches (starting from batch 1674):  64%|██████▍   | 49/76 [02:50<01:28,  3.29s/it]"
     ]
    },
    {
     "name": "stdout",
     "output_type": "stream",
     "text": [
      "API key 1 rate limited. Waiting 0 seconds.\n",
      "API key 1 rate limited. Waiting 0 seconds.\n",
      "API key 1 rate limited. Waiting 0 seconds.\n",
      "API key 1 rate limited. Waiting 0 seconds.\n",
      "API key 1 rate limited. Waiting 0 seconds.\n",
      "API key 1 rate limited. Waiting 0 seconds.\n",
      "API key 1 rate limited. Waiting 0 seconds.\n"
     ]
    },
    {
     "name": "stderr",
     "output_type": "stream",
     "text": [
      "Processing tweet batches (starting from batch 1674):  66%|██████▌   | 50/76 [02:53<01:18,  3.01s/it]"
     ]
    },
    {
     "name": "stdout",
     "output_type": "stream",
     "text": [
      "API key 1 rate limited. Waiting 0 seconds.\n",
      "API key 1 rate limited. Waiting 0 seconds.\n",
      "API key 1 rate limited. Waiting 0 seconds.\n",
      "API key 1 rate limited. Waiting 0 seconds.\n",
      "API key 1 rate limited. Waiting 0 seconds.\n",
      "API key 1 rate limited. Waiting 0 seconds.\n"
     ]
    },
    {
     "name": "stderr",
     "output_type": "stream",
     "text": [
      "Processing tweet batches (starting from batch 1674):  67%|██████▋   | 51/76 [02:55<01:10,  2.82s/it]"
     ]
    },
    {
     "name": "stdout",
     "output_type": "stream",
     "text": [
      "\n",
      "Saved 6900 processed tweets to ../data/test_partial.csv\n",
      "API key 1 rate limited. Waiting 0 seconds.\n",
      "API key 1 rate limited. Waiting 0 seconds.\n",
      "API key 1 rate limited. Waiting 0 seconds.\n"
     ]
    },
    {
     "name": "stderr",
     "output_type": "stream",
     "text": [
      "Processing tweet batches (starting from batch 1674):  68%|██████▊   | 52/76 [02:56<00:56,  2.37s/it]"
     ]
    },
    {
     "name": "stdout",
     "output_type": "stream",
     "text": [
      "API key 1 rate limited. Waiting 0 seconds.\n",
      "API key 1 rate limited. Waiting 0 seconds.\n",
      "API key 1 rate limited. Waiting 0 seconds.\n",
      "API key 1 rate limited. Waiting 0 seconds.\n",
      "API key 1 rate limited. Waiting 0 seconds.\n"
     ]
    },
    {
     "name": "stderr",
     "output_type": "stream",
     "text": [
      "Processing tweet batches (starting from batch 1674):  71%|███████   | 54/76 [03:01<00:48,  2.21s/it]"
     ]
    },
    {
     "name": "stdout",
     "output_type": "stream",
     "text": [
      "API key 1 rate limited. Waiting 0 seconds.\n"
     ]
    },
    {
     "name": "stderr",
     "output_type": "stream",
     "text": [
      "Processing tweet batches (starting from batch 1674):  72%|███████▏  | 55/76 [03:02<00:40,  1.95s/it]"
     ]
    },
    {
     "name": "stdout",
     "output_type": "stream",
     "text": [
      "API key 1 rate limited. Waiting 0 seconds.API key 1 rate limited. Waiting 0 seconds.\n",
      "\n",
      "API key 1 rate limited. Waiting 0 seconds.API key 1 rate limited. Waiting 0 seconds.\n",
      "\n",
      "API key 1 rate limited. Waiting 0 seconds.\n"
     ]
    },
    {
     "name": "stderr",
     "output_type": "stream",
     "text": [
      "Processing tweet batches (starting from batch 1674):  74%|███████▎  | 56/76 [03:04<00:42,  2.12s/it]"
     ]
    },
    {
     "name": "stdout",
     "output_type": "stream",
     "text": [
      "API key 1 rate limited. Waiting 0 seconds.\n",
      "API key 1 rate limited. Waiting 0 seconds.\n"
     ]
    },
    {
     "name": "stderr",
     "output_type": "stream",
     "text": [
      "Processing tweet batches (starting from batch 1674):  75%|███████▌  | 57/76 [03:06<00:39,  2.07s/it]"
     ]
    },
    {
     "name": "stdout",
     "output_type": "stream",
     "text": [
      "API key 1 rate limited. Waiting 0 seconds.API key 1 rate limited. Waiting 0 seconds.\n",
      "\n",
      "API key 1 rate limited. Waiting 0 seconds.\n",
      "API key 1 rate limited. Waiting 0 seconds.\n",
      "API key 1 rate limited. Waiting 0 seconds.\n",
      "API key 1 rate limited. Waiting 0 seconds.\n",
      "API key 1 rate limited. Waiting 0 seconds.\n"
     ]
    },
    {
     "name": "stderr",
     "output_type": "stream",
     "text": [
      "Processing tweet batches (starting from batch 1674):  78%|███████▊  | 59/76 [03:10<00:33,  1.97s/it]"
     ]
    },
    {
     "name": "stdout",
     "output_type": "stream",
     "text": [
      "API key 1 rate limited. Waiting 0 seconds.\n",
      "API key 1 rate limited. Waiting 0 seconds.\n",
      "API key 1 rate limited. Waiting 0 seconds.\n",
      "API key 1 rate limited. Waiting 0 seconds.\n",
      "API key 1 rate limited. Waiting 0 seconds.\n",
      "API key 1 rate limited. Waiting 0 seconds.\n"
     ]
    },
    {
     "name": "stderr",
     "output_type": "stream",
     "text": [
      "Processing tweet batches (starting from batch 1674):  79%|███████▉  | 60/76 [03:12<00:32,  2.02s/it]"
     ]
    },
    {
     "name": "stdout",
     "output_type": "stream",
     "text": [
      "API key 1 rate limited. Waiting 0 seconds.\n",
      "API key 1 rate limited. Waiting 0 seconds.\n",
      "API key 1 rate limited. Waiting 0 seconds.\n",
      "API key 1 rate limited. Waiting 0 seconds.\n",
      "API key 1 rate limited. Waiting 0 seconds.\n",
      "API key 1 rate limited. Waiting 0 seconds.\n",
      "API key 1 rate limited. Waiting 0 seconds.\n",
      "API key 1 rate limited. Waiting 0 seconds.\n",
      "API key 1 rate limited. Waiting 0 seconds.\n"
     ]
    },
    {
     "name": "stderr",
     "output_type": "stream",
     "text": [
      "Processing tweet batches (starting from batch 1674):  80%|████████  | 61/76 [03:14<00:29,  1.99s/it]"
     ]
    },
    {
     "name": "stdout",
     "output_type": "stream",
     "text": [
      "API key 1 rate limited. Waiting 0 seconds.\n",
      "API key 1 rate limited. Waiting 0 seconds.\n",
      "API key 1 rate limited. Waiting 0 seconds.\n",
      "API key 1 rate limited. Waiting 0 seconds.\n",
      "API key 1 rate limited. Waiting 0 seconds.\n"
     ]
    },
    {
     "name": "stderr",
     "output_type": "stream",
     "text": [
      "Processing tweet batches (starting from batch 1674):  82%|████████▏ | 62/76 [03:16<00:26,  1.87s/it]"
     ]
    },
    {
     "name": "stdout",
     "output_type": "stream",
     "text": [
      "API key 1 rate limited. Waiting 0 seconds.\n",
      "API key 1 rate limited. Waiting 0 seconds.\n",
      "API key 1 rate limited. Waiting 0 seconds.\n"
     ]
    },
    {
     "name": "stderr",
     "output_type": "stream",
     "text": [
      "Processing tweet batches (starting from batch 1674):  84%|████████▍ | 64/76 [03:18<00:17,  1.49s/it]"
     ]
    },
    {
     "name": "stdout",
     "output_type": "stream",
     "text": [
      "API key 1 rate limited. Waiting 0 seconds.\n",
      "API key 1 rate limited. Waiting 0 seconds.\n",
      "API key 1 rate limited. Waiting 0 seconds.\n",
      "API key 1 rate limited. Waiting 0 seconds.\n"
     ]
    },
    {
     "name": "stderr",
     "output_type": "stream",
     "text": [
      "Processing tweet batches (starting from batch 1674):  86%|████████▌ | 65/76 [03:20<00:17,  1.57s/it]"
     ]
    },
    {
     "name": "stdout",
     "output_type": "stream",
     "text": [
      "API key 1 rate limited. Waiting 0 seconds.\n",
      "API key 1 rate limited. Waiting 0 seconds.\n",
      "API key 1 rate limited. Waiting 0 seconds.\n",
      "API key 1 rate limited. Waiting 0 seconds.\n",
      "API key 1 rate limited. Waiting 0 seconds.\n",
      "API key 1 rate limited. Waiting 0 seconds.\n",
      "API key 1 rate limited. Waiting 0 seconds.\n"
     ]
    },
    {
     "name": "stderr",
     "output_type": "stream",
     "text": [
      "Processing tweet batches (starting from batch 1674):  88%|████████▊ | 67/76 [03:24<00:14,  1.63s/it]"
     ]
    },
    {
     "name": "stdout",
     "output_type": "stream",
     "text": [
      "API key 1 rate limited. Waiting 0 seconds.\n",
      "API key 1 rate limited. Waiting 0 seconds.\n",
      "API key 1 rate limited. Waiting 0 seconds.API key 1 rate limited. Waiting 0 seconds.\n",
      "\n",
      "API key 1 rate limited. Waiting 0 seconds.\n",
      "API key 1 rate limited. Waiting 0 seconds.\n",
      "API key 1 rate limited. Waiting 0 seconds.\n"
     ]
    },
    {
     "name": "stderr",
     "output_type": "stream",
     "text": [
      "Processing tweet batches (starting from batch 1674):  89%|████████▉ | 68/76 [03:25<00:13,  1.68s/it]"
     ]
    },
    {
     "name": "stdout",
     "output_type": "stream",
     "text": [
      "API key 1 rate limited. Waiting 0 seconds.\n",
      "API key 1 rate limited. Waiting 0 seconds.\n"
     ]
    },
    {
     "name": "stderr",
     "output_type": "stream",
     "text": [
      "Processing tweet batches (starting from batch 1674):  91%|█████████ | 69/76 [03:27<00:11,  1.68s/it]"
     ]
    },
    {
     "name": "stdout",
     "output_type": "stream",
     "text": [
      "API key 1 rate limited. Waiting 0 seconds.\n",
      "API key 1 rate limited. Waiting 0 seconds.\n",
      "API key 1 rate limited. Waiting 0 seconds.\n",
      "API key 1 rate limited. Waiting 0 seconds.API key 1 rate limited. Waiting 0 seconds.\n",
      "\n",
      "API key 1 rate limited. Waiting 0 seconds.\n"
     ]
    },
    {
     "name": "stderr",
     "output_type": "stream",
     "text": [
      "Processing tweet batches (starting from batch 1674):  92%|█████████▏| 70/76 [03:29<00:10,  1.69s/it]"
     ]
    },
    {
     "name": "stdout",
     "output_type": "stream",
     "text": [
      "API key 1 rate limited. Waiting 0 seconds.API key 1 rate limited. Waiting 0 seconds.\n",
      "\n",
      "API key 1 rate limited. Waiting 0 seconds.API key 1 rate limited. Waiting 0 seconds.\n",
      "\n",
      "API key 1 rate limited. Waiting 0 seconds.\n",
      "API key 1 rate limited. Waiting 0 seconds.\n",
      "API key 1 rate limited. Waiting 0 seconds.\n",
      "API key 1 rate limited. Waiting 0 seconds.\n",
      "API key 1 rate limited. Waiting 0 seconds.\n",
      "API key 1 rate limited. Waiting 0 seconds.\n"
     ]
    },
    {
     "name": "stderr",
     "output_type": "stream",
     "text": [
      "Processing tweet batches (starting from batch 1674):  93%|█████████▎| 71/76 [03:32<00:10,  2.04s/it]"
     ]
    },
    {
     "name": "stdout",
     "output_type": "stream",
     "text": [
      "API key 1 rate limited. Waiting 0 seconds.\n"
     ]
    },
    {
     "name": "stderr",
     "output_type": "stream",
     "text": [
      "Processing tweet batches (starting from batch 1674):  95%|█████████▍| 72/76 [03:33<00:07,  1.77s/it]"
     ]
    },
    {
     "name": "stdout",
     "output_type": "stream",
     "text": [
      "API key 1 rate limited. Waiting 0 seconds.\n",
      "API key 1 rate limited. Waiting 0 seconds.\n",
      "API key 1 rate limited. Waiting 0 seconds.\n",
      "API key 1 rate limited. Waiting 0 seconds.\n",
      "API key 1 rate limited. Waiting 0 seconds.\n"
     ]
    },
    {
     "name": "stderr",
     "output_type": "stream",
     "text": [
      "Processing tweet batches (starting from batch 1674):  96%|█████████▌| 73/76 [03:35<00:05,  1.95s/it]"
     ]
    },
    {
     "name": "stdout",
     "output_type": "stream",
     "text": [
      "API key 1 rate limited. Waiting 0 seconds.\n",
      "API key 1 rate limited. Waiting 0 seconds.\n",
      "API key 1 rate limited. Waiting 0 seconds.\n",
      "API key 1 rate limited. Waiting 0 seconds.\n"
     ]
    },
    {
     "name": "stderr",
     "output_type": "stream",
     "text": [
      "Processing tweet batches (starting from batch 1674):  97%|█████████▋| 74/76 [03:37<00:03,  1.83s/it]"
     ]
    },
    {
     "name": "stdout",
     "output_type": "stream",
     "text": [
      "API key 1 rate limited. Waiting 0 seconds.\n",
      "API key 1 rate limited. Waiting 0 seconds.\n",
      "API key 1 rate limited. Waiting 0 seconds.\n"
     ]
    },
    {
     "name": "stderr",
     "output_type": "stream",
     "text": [
      "Processing tweet batches (starting from batch 1674):  99%|█████████▊| 75/76 [03:38<00:01,  1.78s/it]"
     ]
    },
    {
     "name": "stdout",
     "output_type": "stream",
     "text": [
      "API key 1 rate limited. Waiting 0 seconds.\n",
      "API key 1 rate limited. Waiting 0 seconds.\n",
      "API key 1 rate limited. Waiting 0 seconds.\n"
     ]
    },
    {
     "name": "stderr",
     "output_type": "stream",
     "text": [
      "Processing tweet batches (starting from batch 1674): 100%|██████████| 76/76 [03:40<00:00,  2.90s/it]"
     ]
    },
    {
     "name": "stdout",
     "output_type": "stream",
     "text": [
      "API key 1 rate limited. Waiting 0 seconds.\n",
      "\n",
      "Saved 7000 processed tweets to ../data/test_partial.csv\n"
     ]
    },
    {
     "name": "stderr",
     "output_type": "stream",
     "text": [
      "\n"
     ]
    },
    {
     "data": {
      "text/html": [
       "<div><style>\n",
       ".dataframe > thead > tr,\n",
       ".dataframe > tbody > tr {\n",
       "  text-align: right;\n",
       "  white-space: pre-wrap;\n",
       "}\n",
       "</style>\n",
       "<small>shape: (10, 2)</small><table border=\"1\" class=\"dataframe\"><thead><tr><th>text</th><th>sentiment</th></tr><tr><td>str</td><td>str</td></tr></thead><tbody><tr><td>&quot;Be careful here.&nbsp;&nbsp;$VIX is stil…</td><td>&quot;NEUTRAL&quot;</td></tr><tr><td>&quot;$spx vs credit is insane https…</td><td>&quot;NEGATIVE&quot;</td></tr><tr><td>&quot;We&#x27;re still looking for someon…</td><td>&quot;NEUTRAL&quot;</td></tr><tr><td>&quot;#funds #stocks or #futures #Fi…</td><td>&quot;NEUTRAL&quot;</td></tr><tr><td>&quot;RT @buysellshort: $DIS: FL Gov…</td><td>&quot;NEUTRAL&quot;</td></tr><tr><td>&quot;Are These On Your List Of Penn…</td><td>&quot;NEUTRAL&quot;</td></tr><tr><td>&quot;RT @GreenStocks2016: &quot;The FED …</td><td>&quot;NEUTRAL&quot;</td></tr><tr><td>&quot;RT @chiumeister: May 29\n",
       "Yr +4.…</td><td>&quot;NEUTRAL&quot;</td></tr><tr><td>&quot;RT @DrivingTheDay: Jul 08: Tec…</td><td>&quot;POSITIVE&quot;</td></tr><tr><td>&quot;RT @NasdaqReporter: $AAPL $MSF…</td><td>&quot;STRONGLY_POSITIVE&quot;</td></tr></tbody></table></div>"
      ],
      "text/plain": [
       "shape: (10, 2)\n",
       "┌─────────────────────────────────┬───────────────────┐\n",
       "│ text                            ┆ sentiment         │\n",
       "│ ---                             ┆ ---               │\n",
       "│ str                             ┆ str               │\n",
       "╞═════════════════════════════════╪═══════════════════╡\n",
       "│ Be careful here.  $VIX is stil… ┆ NEUTRAL           │\n",
       "│ $spx vs credit is insane https… ┆ NEGATIVE          │\n",
       "│ We're still looking for someon… ┆ NEUTRAL           │\n",
       "│ #funds #stocks or #futures #Fi… ┆ NEUTRAL           │\n",
       "│ RT @buysellshort: $DIS: FL Gov… ┆ NEUTRAL           │\n",
       "│ Are These On Your List Of Penn… ┆ NEUTRAL           │\n",
       "│ RT @GreenStocks2016: \"The FED … ┆ NEUTRAL           │\n",
       "│ RT @chiumeister: May 29         ┆ NEUTRAL           │\n",
       "│ Yr +4.…                         ┆                   │\n",
       "│ RT @DrivingTheDay: Jul 08: Tec… ┆ POSITIVE          │\n",
       "│ RT @NasdaqReporter: $AAPL $MSF… ┆ STRONGLY_POSITIVE │\n",
       "└─────────────────────────────────┴───────────────────┘"
      ]
     },
     "execution_count": 14,
     "metadata": {},
     "output_type": "execute_result"
    }
   ],
   "source": [
    "import os\n",
    "\n",
    "# Process tweets using the resumed concurrent approach\n",
    "tweets = sample_df[tweet_column].to_list()\n",
    "\n",
    "# Define parameters\n",
    "BATCH_SIZE = 4  # Number of tweets to process in each batch\n",
    "MAX_WORKERS = 2  # Number of concurrent workers (match to number of API keys)\n",
    "SAVE_EVERY = 100  # Save results every N tweets processed\n",
    "RATE_LIMIT_WAIT = 0  # Default wait time in seconds when rate limited\n",
    "\n",
    "# Change this to the batch you want to resume from\n",
    "# resume_batch = int(6000 / BATCH_SIZE)\n",
    "resume_batch = 1674\n",
    "\n",
    "# Process tweets using concurrent API keys with resuming capability\n",
    "sentiments = process_tweets_concurrent_resumed(\n",
    "    tweets, \n",
    "    start_batch=resume_batch,\n",
    "    batch_size=BATCH_SIZE, \n",
    "    max_workers=MAX_WORKERS,\n",
    "    save_every=SAVE_EVERY,\n",
    "    rate_limit_wait=RATE_LIMIT_WAIT,\n",
    "    force_reprocess=True\n",
    ")\n",
    "\n",
    "# Add sentiments to the DataFrame\n",
    "sample_df = sample_df.with_columns(pl.Series(name='sentiment', values=sentiments))\n",
    "\n",
    "# Display the results\n",
    "sample_df.select([tweet_column, 'sentiment']).head(10)"
   ]
  },
  {
   "cell_type": "code",
   "execution_count": 15,
   "metadata": {},
   "outputs": [
    {
     "name": "stdout",
     "output_type": "stream",
     "text": [
      "\n",
      "Saved labeled data to ../data/test.csv\n",
      "\n",
      "Examples for each sentiment:\n",
      "\n",
      "STRONGLY_POSITIVE:\n",
      "RT @NasdaqReporter: @otchub $XFLS 0.0189 less than 30M float, up to 1000% upside potential forget about $BA $AAL $AAPL $FB $MSFT $HD $TSLA…\n",
      "\n",
      "POSITIVE:\n",
      "RT @breakingoptions: Not bad we closed this trade today sold 1/2 at 1.90 then the 2nd 1/2 at 2.60. So average was 2.25 so about 70% on the…\n",
      "\n",
      "NEUTRAL:\n",
      "RT @dw_business: Stocks are tumbling while the gold price is climbing to record levels 📈Investors are turning to safe-haven assets, especia…\n",
      "\n",
      "NEGATIVE:\n",
      "Every news outlet: $DOW futures down 300 as “market is ____________ “ (fill in the blank with whatever sounds plausible) \n",
      "\n",
      "#stocks \n",
      "#markets\n",
      "\n",
      "STRONGLY_NEGATIVE:\n",
      "RT @DayTradeCash: The longer you stay in the wrong trade, the greater your loss will be. #ES_F #SP500 #investment\n"
     ]
    }
   ],
   "source": [
    "# Save the labeled data\n",
    "output_path = \"../data/test.csv\"\n",
    "os.makedirs(os.path.dirname(output_path), exist_ok=True)\n",
    "sample_df.write_csv(output_path)\n",
    "print(f\"\\nSaved labeled data to {output_path}\")\n",
    "\n",
    "# Display some examples of each sentiment\n",
    "print(\"\\nExamples for each sentiment:\")\n",
    "for sentiment in ['STRONGLY_POSITIVE', 'POSITIVE', 'NEUTRAL', 'NEGATIVE', 'STRONGLY_NEGATIVE']:\n",
    "    examples = sample_df.filter(pl.col(\"sentiment\") == sentiment).sample(1, seed=42)\n",
    "    if examples.shape[0] > 0:\n",
    "        print(f\"\\n{sentiment}:\\n{examples[0, tweet_column]}\")"
   ]
  }
 ],
 "metadata": {
  "kernelspec": {
   "display_name": "Python 3",
   "language": "python",
   "name": "python3"
  },
  "language_info": {
   "codemirror_mode": {
    "name": "ipython",
    "version": 3
   },
   "file_extension": ".py",
   "mimetype": "text/x-python",
   "name": "python",
   "nbconvert_exporter": "python",
   "pygments_lexer": "ipython3",
   "version": "3.11.0"
  }
 },
 "nbformat": 4,
 "nbformat_minor": 4
}
