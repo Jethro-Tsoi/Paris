{
 "cells": [
  {
   "cell_type": "markdown",
   "metadata": {},
   "source": [
    "# FinBERT Predictions on All Labeled Tweets\n",
    "\n",
    "This notebook uses the fine-tuned FinBERT model to predict sentiment on the all_labeled_tweets.csv dataset and saves the results to a new file.\n",
    "\n",
    "## Process Overview\n",
    "1. Load the fine-tuned FinBERT model\n",
    "2. Load the all_labeled_tweets.csv dataset\n",
    "3. Predict sentiment using the FinBERT model\n",
    "4. Save the predictions to a new CSV file"
   ]
  },
  {
   "cell_type": "code",
   "execution_count": 6,
   "metadata": {},
   "outputs": [],
   "source": [
    "import os\n",
    "import pandas as pd\n",
    "import numpy as np\n",
    "import torch\n",
    "from torch.utils.data import Dataset, DataLoader\n",
    "from tqdm.auto import tqdm\n",
    "from transformers import AutoTokenizer, AutoModelForSequenceClassification\n",
    "from sklearn.metrics import (\n",
    "    accuracy_score,\n",
    "    precision_recall_fscore_support,\n",
    "    confusion_matrix\n",
    ")\n",
    "import matplotlib.pyplot as plt\n",
    "import seaborn as sns\n",
    "import time\n",
    "from datetime import datetime\n",
    "\n",
    "# Set random seeds for reproducibility\n",
    "torch.manual_seed(42)\n",
    "np.random.seed(42)"
   ]
  },
  {
   "cell_type": "code",
   "execution_count": 7,
   "metadata": {},
   "outputs": [
    {
     "name": "stdout",
     "output_type": "stream",
     "text": [
      "MPS available: True\n",
      "GPU available: False\n",
      "Using device: mps\n"
     ]
    }
   ],
   "source": [
    "# Check for MPS availability\n",
    "mps_available = torch.backends.mps.is_available()\n",
    "gpu_available = torch.cuda.is_available()\n",
    "device = torch.device(\"mps\" if mps_available else \"cuda\" if gpu_available else \"cpu\")\n",
    "print(f\"MPS available: {mps_available}\")\n",
    "print(f\"GPU available: {gpu_available}\")\n",
    "print(f\"Using device: {device}\")\n"
   ]
  },
  {
   "cell_type": "markdown",
   "metadata": {},
   "source": [
    "## Load Model and Data"
   ]
  },
  {
   "cell_type": "code",
   "execution_count": 8,
   "metadata": {},
   "outputs": [
    {
     "name": "stdout",
     "output_type": "stream",
     "text": [
      "Loading FinBERT tokenizer...\n",
      "FinBERT model device: mps:0\n",
      "Loading all_labeled_tweets.csv...\n",
      "Loaded 28172 tweets\n"
     ]
    }
   ],
   "source": [
    "# Initialize tokenizer\n",
    "print(\"Loading FinBERT tokenizer...\")\n",
    "finbert_tokenizer = AutoTokenizer.from_pretrained('ProsusAI/finbert')\n",
    "\n",
    "# Load FinBERT model with original number of labels (3)\n",
    "finbert_model = AutoModelForSequenceClassification.from_pretrained('ProsusAI/finbert')\n",
    "# Resize the classifier to 5 labels\n",
    "hidden_size = finbert_model.config.hidden_size\n",
    "finbert_model.config.num_labels = 5\n",
    "finbert_model.num_labels = 5\n",
    "# Replace the classifier with a new one that has 5 outputs\n",
    "finbert_model.classifier = torch.nn.Linear(hidden_size, 5)\n",
    "\n",
    "# Load safetensors model file using safetensors library\n",
    "from safetensors.torch import load_file\n",
    "state_dict = load_file('../models/finbert/model.safetensors')\n",
    "finbert_model.load_state_dict(state_dict)\n",
    "finbert_model = finbert_model.to(device)\n",
    "print(f\"FinBERT model device: {next(finbert_model.parameters()).device}\")\n",
    "finbert_model.eval()\n",
    "\n",
    "# Map numeric predictions back to sentiment labels\n",
    "sentiment_mapping = {\n",
    "    'STRONGLY_POSITIVE': 0,\n",
    "    'POSITIVE': 1,\n",
    "    'NEUTRAL': 2,\n",
    "    'NEGATIVE': 3,\n",
    "    'STRONGLY_NEGATIVE': 4\n",
    "}\n",
    "\n",
    "# Load all labeled tweets\n",
    "print(\"Loading all_labeled_tweets.csv...\")\n",
    "tweets_df = pd.read_csv('../data/all_labeled_tweets.csv')\n",
    "print(f\"Loaded {len(tweets_df)} tweets\")"
   ]
  },
  {
   "cell_type": "markdown",
   "metadata": {},
   "source": [
    "## Prediction Function"
   ]
  },
  {
   "cell_type": "code",
   "execution_count": 9,
   "metadata": {},
   "outputs": [],
   "source": [
    "def predict_sentiment(model, tokenizer, texts, batch_size=32):\n",
    "    predictions = []\n",
    "    prediction_scores = []\n",
    "    inference_times = []\n",
    "    \n",
    "    # Process in batches\n",
    "    for i in tqdm(range(0, len(texts), batch_size)):\n",
    "        batch_texts = texts[i:i + batch_size]\n",
    "        \n",
    "        # Tokenize\n",
    "        inputs = tokenizer(batch_texts, padding=True, truncation=True, max_length=128, return_tensors='pt')\n",
    "        \n",
    "        # Move inputs to the same device as the model\n",
    "        inputs = {k: v.to(device) for k, v in inputs.items()}\n",
    "        \n",
    "        # Measure inference time\n",
    "        start_time = time.time()\n",
    "        with torch.no_grad():\n",
    "            outputs = model(**inputs)\n",
    "            logits = outputs.logits\n",
    "            # Get the predicted class\n",
    "            preds = torch.argmax(logits, dim=1)\n",
    "            # Get probabilities using softmax\n",
    "            probs = torch.nn.functional.softmax(logits, dim=1)\n",
    "        inference_time = time.time() - start_time\n",
    "        \n",
    "        # Move predictions back to CPU for NumPy conversion\n",
    "        predictions.extend(preds.cpu().numpy())\n",
    "        prediction_scores.extend(probs.cpu().numpy())\n",
    "        inference_times.extend([inference_time / len(batch_texts)] * len(batch_texts))\n",
    "    \n",
    "    return predictions, prediction_scores, np.mean(inference_times)"
   ]
  },
  {
   "cell_type": "markdown",
   "metadata": {},
   "source": [
    "## Run Predictions"
   ]
  },
  {
   "cell_type": "code",
   "execution_count": 11,
   "metadata": {},
   "outputs": [
    {
     "name": "stdout",
     "output_type": "stream",
     "text": [
      "Making predictions on column: description\n"
     ]
    },
    {
     "name": "stderr",
     "output_type": "stream",
     "text": [
      "100%|██████████| 881/881 [03:10<00:00,  4.63it/s]"
     ]
    },
    {
     "name": "stdout",
     "output_type": "stream",
     "text": [
      "Average inference time per tweet: 0.60 ms\n"
     ]
    },
    {
     "name": "stderr",
     "output_type": "stream",
     "text": [
      "\n"
     ]
    }
   ],
   "source": [
    "# Get text column name - could be 'description' or 'text' depending on the dataset\n",
    "text_column = 'description' if 'description' in tweets_df.columns else 'text'\n",
    "\n",
    "print(f\"Making predictions on column: {text_column}\")\n",
    "predictions, prediction_scores, avg_inference_time = predict_sentiment(\n",
    "    finbert_model, \n",
    "    finbert_tokenizer, \n",
    "    tweets_df[text_column].tolist()  # Convert to list for consistency with model comparison notebook\n",
    ")\n",
    "\n",
    "print(f\"Average inference time per tweet: {avg_inference_time*1000:.2f} ms\")\n",
    "\n",
    "# Map predictions to sentiment labels\n",
    "# Create reverse mapping (from numeric values to sentiment labels)\n",
    "reverse_sentiment_mapping = {v: k for k, v in sentiment_mapping.items()}\n",
    "predicted_sentiments = [reverse_sentiment_mapping[int(pred)] for pred in predictions]\n",
    "\n",
    "# Add predictions and confidence scores to the dataframe\n",
    "tweets_df['finbert_predicted_sentiment'] = predicted_sentiments\n",
    "tweets_df['finbert_predicted_class'] = predictions\n",
    "\n",
    "# Add confidence scores for each class\n",
    "for sentiment, i in sentiment_mapping.items():\n",
    "    tweets_df[f'finbert_score_{sentiment}'] = [scores[i] for scores in prediction_scores]"
   ]
  },
  {
   "cell_type": "markdown",
   "metadata": {},
   "source": [
    "## Analyze Predictions"
   ]
  },
  {
   "cell_type": "code",
   "execution_count": 12,
   "metadata": {},
   "outputs": [
    {
     "name": "stdout",
     "output_type": "stream",
     "text": [
      "Prediction counts by sentiment:\n",
      "finbert_predicted_sentiment\n",
      "NEUTRAL              20731\n",
      "POSITIVE              4010\n",
      "NEGATIVE              2555\n",
      "STRONGLY_NEGATIVE      523\n",
      "STRONGLY_POSITIVE      353\n",
      "Name: count, dtype: int64\n",
      "\n",
      "Percentage distribution:\n",
      "finbert_predicted_sentiment\n",
      "NEUTRAL              73.587250\n",
      "POSITIVE             14.233991\n",
      "NEGATIVE              9.069289\n",
      "STRONGLY_NEGATIVE     1.856453\n",
      "STRONGLY_POSITIVE     1.253017\n",
      "Name: count, dtype: float64\n"
     ]
    },
    {
     "data": {
      "image/png": "[encoded data removed]",
      "text/plain": [
       "<Figure size 1000x600 with 1 Axes>"
      ]
     },
     "metadata": {},
     "output_type": "display_data"
    },
    {
     "data": {
      "image/png": "[encoded data removed]",
      "text/plain": [
       "<Figure size 1000x800 with 2 Axes>"
      ]
     },
     "metadata": {},
     "output_type": "display_data"
    },
    {
     "name": "stdout",
     "output_type": "stream",
     "text": [
      "\n",
      "Model Performance Metrics:\n",
      "Accuracy: 0.8641\n",
      "Precision: 0.8645\n",
      "Recall: 0.8641\n",
      "F1 Score: 0.8640\n"
     ]
    }
   ],
   "source": [
    "# Count predictions by sentiment\n",
    "sentiment_counts = tweets_df['finbert_predicted_sentiment'].value_counts()\n",
    "print(\"Prediction counts by sentiment:\")\n",
    "print(sentiment_counts)\n",
    "\n",
    "# Calculate percentage distribution\n",
    "sentiment_percentages = sentiment_counts / len(tweets_df) * 100\n",
    "print(\"\\nPercentage distribution:\")\n",
    "print(sentiment_percentages)\n",
    "\n",
    "# Plot distribution\n",
    "import matplotlib.pyplot as plt\n",
    "plt.figure(figsize=(10, 6))\n",
    "sentiment_counts.plot(kind='bar', color='skyblue')\n",
    "plt.title('FinBERT Prediction Distribution')\n",
    "plt.xlabel('Sentiment')\n",
    "plt.ylabel('Count')\n",
    "plt.xticks(rotation=45)\n",
    "plt.tight_layout()\n",
    "plt.show()\n",
    "\n",
    "# If the original dataset has sentiment labels, compare with predictions\n",
    "if 'sentiment' in tweets_df.columns:\n",
    "    # Create a confusion matrix\n",
    "    from sklearn.metrics import confusion_matrix\n",
    "    import seaborn as sns\n",
    "    \n",
    "    # Map original sentiment labels to numeric values\n",
    "    orig_sentiment_mapping = {\n",
    "        'STRONGLY_NEGATIVE': 0,\n",
    "        'NEGATIVE': 1,\n",
    "        'NEUTRAL': 2,\n",
    "        'POSITIVE': 3,\n",
    "        'STRONGLY_POSITIVE': 4\n",
    "    }\n",
    "    \n",
    "    # Convert original sentiment labels to numeric\n",
    "    original_labels = tweets_df['sentiment'].map(lambda x: orig_sentiment_mapping.get(x, 2)).tolist()  # Convert to list for consistency\n",
    "    \n",
    "    # Create confusion matrix\n",
    "    cm = confusion_matrix(original_labels, predictions)\n",
    "    \n",
    "    # Plot confusion matrix\n",
    "    plt.figure(figsize=(10, 8))\n",
    "    sns.heatmap(cm, annot=True, fmt='d', cmap='Blues',\n",
    "                xticklabels=list(sentiment_mapping.values()),\n",
    "                yticklabels=list(sentiment_mapping.values()))\n",
    "    plt.xlabel('Predicted')\n",
    "    plt.ylabel('True')\n",
    "    plt.title('Confusion Matrix')\n",
    "    plt.tight_layout()\n",
    "    plt.show()\n",
    "    \n",
    "    # Calculate accuracy\n",
    "    from sklearn.metrics import accuracy_score, precision_recall_fscore_support\n",
    "    \n",
    "    accuracy = accuracy_score(original_labels, predictions)\n",
    "    precision, recall, f1, _ = precision_recall_fscore_support(original_labels, predictions, average='weighted')\n",
    "    \n",
    "    print(f\"\\nModel Performance Metrics:\")\n",
    "    print(f\"Accuracy: {accuracy:.4f}\")\n",
    "    print(f\"Precision: {precision:.4f}\")\n",
    "    print(f\"Recall: {recall:.4f}\")\n",
    "    print(f\"F1 Score: {f1:.4f}\")"
   ]
  },
  {
   "cell_type": "markdown",
   "metadata": {},
   "source": [
    "## Save Predictions"
   ]
  },
  {
   "cell_type": "code",
   "execution_count": 13,
   "metadata": {},
   "outputs": [
    {
     "name": "stdout",
     "output_type": "stream",
     "text": [
      "Saving predictions to ../data/finbert_predictions_20250401_125126.csv\n",
      "Prediction process completed.\n"
     ]
    }
   ],
   "source": [
    "# Create timestamp for the output file\n",
    "timestamp = datetime.now().strftime(\"%Y%m%d_%H%M%S\")\n",
    "output_file = f\"../data/finbert_predictions_{timestamp}.csv\"\n",
    "\n",
    "# Save the predictions to CSV\n",
    "print(f\"Saving predictions to {output_file}\")\n",
    "tweets_df.to_csv(output_file, index=False)\n",
    "\n",
    "print(\"Prediction process completed.\")"
   ]
  },
  {
   "cell_type": "markdown",
   "metadata": {},
   "source": [
    "## Sample Predictions"
   ]
  },
  {
   "cell_type": "code",
   "execution_count": 14,
   "metadata": {},
   "outputs": [
    {
     "name": "stdout",
     "output_type": "stream",
     "text": [
      "Sample of predictions:\n"
     ]
    },
    {
     "data": {
      "text/html": [
       "<div>\n",
       "<style scoped>\n",
       "    .dataframe tbody tr th:only-of-type {\n",
       "        vertical-align: middle;\n",
       "    }\n",
       "\n",
       "    .dataframe tbody tr th {\n",
       "        vertical-align: top;\n",
       "    }\n",
       "\n",
       "    .dataframe thead th {\n",
       "        text-align: right;\n",
       "    }\n",
       "</style>\n",
       "<table border=\"1\" class=\"dataframe\">\n",
       "  <thead>\n",
       "    <tr style=\"text-align: right;\">\n",
       "      <th></th>\n",
       "      <th>description</th>\n",
       "      <th>sentiment</th>\n",
       "      <th>finbert_predicted_sentiment</th>\n",
       "    </tr>\n",
       "  </thead>\n",
       "  <tbody>\n",
       "    <tr>\n",
       "      <th>5908</th>\n",
       "      <td>This person caught it also \\n\\n&gt; [@KrisPatel99...</td>\n",
       "      <td>NEGATIVE</td>\n",
       "      <td>NEUTRAL</td>\n",
       "    </tr>\n",
       "    <tr>\n",
       "      <th>905</th>\n",
       "      <td>$CLSK is the strongest of the group and breaki...</td>\n",
       "      <td>NEUTRAL</td>\n",
       "      <td>NEGATIVE</td>\n",
       "    </tr>\n",
       "    <tr>\n",
       "      <th>9212</th>\n",
       "      <td>$DUOL\\n\\nStill holding onto this. Took some pr...</td>\n",
       "      <td>NEUTRAL</td>\n",
       "      <td>NEUTRAL</td>\n",
       "    </tr>\n",
       "    <tr>\n",
       "      <th>7132</th>\n",
       "      <td>Oh yeah…. $COIN</td>\n",
       "      <td>NEUTRAL</td>\n",
       "      <td>NEUTRAL</td>\n",
       "    </tr>\n",
       "    <tr>\n",
       "      <th>8184</th>\n",
       "      <td>$SPY Weekly. Broke out from the pennant patter...</td>\n",
       "      <td>NEUTRAL</td>\n",
       "      <td>NEUTRAL</td>\n",
       "    </tr>\n",
       "    <tr>\n",
       "      <th>5365</th>\n",
       "      <td>$OXY seems like warren is about to get the las...</td>\n",
       "      <td>NEUTRAL</td>\n",
       "      <td>POSITIVE</td>\n",
       "    </tr>\n",
       "    <tr>\n",
       "      <th>19311</th>\n",
       "      <td>$SLNA damn it’s slowly happening \\n\\n&gt; [@MrZac...</td>\n",
       "      <td>STRONGLY_NEGATIVE</td>\n",
       "      <td>NEUTRAL</td>\n",
       "    </tr>\n",
       "    <tr>\n",
       "      <th>16672</th>\n",
       "      <td>$ATVI juicy gap to the downside. I'm not good ...</td>\n",
       "      <td>NEGATIVE</td>\n",
       "      <td>POSITIVE</td>\n",
       "    </tr>\n",
       "    <tr>\n",
       "      <th>11776</th>\n",
       "      <td>Ok team, we knew today was going to be rough w...</td>\n",
       "      <td>NEUTRAL</td>\n",
       "      <td>NEUTRAL</td>\n",
       "    </tr>\n",
       "    <tr>\n",
       "      <th>7585</th>\n",
       "      <td>$GME  45min                                   ...</td>\n",
       "      <td>NEUTRAL</td>\n",
       "      <td>NEUTRAL</td>\n",
       "    </tr>\n",
       "  </tbody>\n",
       "</table>\n",
       "</div>"
      ],
      "text/plain": [
       "                                             description          sentiment  \\\n",
       "5908   This person caught it also \\n\\n> [@KrisPatel99...           NEGATIVE   \n",
       "905    $CLSK is the strongest of the group and breaki...            NEUTRAL   \n",
       "9212   $DUOL\\n\\nStill holding onto this. Took some pr...            NEUTRAL   \n",
       "7132                                     Oh yeah…. $COIN            NEUTRAL   \n",
       "8184   $SPY Weekly. Broke out from the pennant patter...            NEUTRAL   \n",
       "5365   $OXY seems like warren is about to get the las...            NEUTRAL   \n",
       "19311  $SLNA damn it’s slowly happening \\n\\n> [@MrZac...  STRONGLY_NEGATIVE   \n",
       "16672  $ATVI juicy gap to the downside. I'm not good ...           NEGATIVE   \n",
       "11776  Ok team, we knew today was going to be rough w...            NEUTRAL   \n",
       "7585   $GME  45min                                   ...            NEUTRAL   \n",
       "\n",
       "      finbert_predicted_sentiment  \n",
       "5908                      NEUTRAL  \n",
       "905                      NEGATIVE  \n",
       "9212                      NEUTRAL  \n",
       "7132                      NEUTRAL  \n",
       "8184                      NEUTRAL  \n",
       "5365                     POSITIVE  \n",
       "19311                     NEUTRAL  \n",
       "16672                    POSITIVE  \n",
       "11776                     NEUTRAL  \n",
       "7585                      NEUTRAL  "
      ]
     },
     "execution_count": 14,
     "metadata": {},
     "output_type": "execute_result"
    }
   ],
   "source": [
    "# Display a sample of predictions\n",
    "print(\"Sample of predictions:\")\n",
    "sample_df = tweets_df.sample(10, random_state=42)\n",
    "sample_columns = [text_column, 'finbert_predicted_sentiment']\n",
    "\n",
    "# Add original sentiment if available\n",
    "if 'sentiment' in tweets_df.columns:\n",
    "    sample_columns.insert(1, 'sentiment')\n",
    "\n",
    "sample_df[sample_columns]"
   ]
  }
 ],
 "metadata": {
  "kernelspec": {
   "display_name": "Python 3",
   "language": "python",
   "name": "python3"
  },
  "language_info": {
   "codemirror_mode": {
    "name": "ipython",
    "version": 3
   },
   "file_extension": ".py",
   "mimetype": "text/x-python",
   "name": "python",
   "nbconvert_exporter": "python",
   "pygments_lexer": "ipython3",
   "version": "3.11.0"
  }
 },
 "nbformat": 4,
 "nbformat_minor": 4
}
