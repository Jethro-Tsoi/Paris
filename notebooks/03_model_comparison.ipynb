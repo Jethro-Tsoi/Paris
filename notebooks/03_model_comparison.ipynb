{
 "cells": [
  {
   "cell_type": "markdown",
   "metadata": {},
   "source": [
    "# Model Comparison: Gemma 3 vs FinBERT\n",
    "\n",
    "This notebook performs a comprehensive comparison between the Gemma 3 (with LoRA) and FinBERT models for financial sentiment analysis.\n",
    "\n",
    "## Comparison Metrics\n",
    "1. Accuracy\n",
    "2. Precision, Recall, F1 Score\n",
    "3. Cohen's Kappa\n",
    "4. Matthews Correlation Coefficient\n",
    "5. ROC-AUC Score\n",
    "6. Confusion Matrix Analysis\n",
    "7. Training Time and Resource Usage\n",
    "8. Inference Speed"
   ]
  },
  {
   "cell_type": "code",
   "execution_count": null,
   "metadata": {},
   "outputs": [],
   "source": [
    "import os\n",
    "import pandas as pd\n",
    "import numpy as np\n",
    "import torch\n",
    "from torch.utils.data import Dataset, DataLoader\n",
    "from tqdm.auto import tqdm\n",
    "from transformers import AutoTokenizer, AutoModelForSequenceClassification\n",
    "from sklearn.metrics import (\n",
    "    accuracy_score,\n",
    "    precision_recall_fscore_support,\n",
    "    cohen_kappa_score,\n",
    "    matthews_corrcoef,\n",
    "    roc_auc_score,\n",
    "    confusion_matrix\n",
    ")\n",
    "import matplotlib.pyplot as plt\n",
    "import seaborn as sns\n",
    "from datetime import datetime\n",
    "import time\n",
    "\n",
    "# Set random seeds\n",
    "torch.manual_seed(42)\n",
    "np.random.seed(42)"
   ]
  },
  {
   "cell_type": "markdown",
   "metadata": {},
   "source": [
    "## Load Models and Data"
   ]
  },
  {
   "cell_type": "code",
   "execution_count": null,
   "metadata": {},
   "outputs": [],
   "source": [
    "# Load test data\n",
    "test_data = pd.read_csv('../data/test.csv')\n",
    "print(f\"Loaded {len(test_data)} test samples\")\n",
    "\n",
    "# Initialize tokenizers\n",
    "gemma_tokenizer = AutoTokenizer.from_pretrained('gemma-3-4b-pt')\n",
    "finbert_tokenizer = AutoTokenizer.from_pretrained('ProsusAI/finbert')\n",
    "\n",
    "# Load Gemma 3 model with LoRA adapter\n",
    "from peft import PeftModel, PeftConfig\n",
    "base_model = AutoModelForSequenceClassification.from_pretrained('gemma-3-4b-pt')\n",
    "gemma_model = PeftModel.from_pretrained(base_model, '../models/gemma3/gemma3_lora_adapter_best')\n",
    "gemma_model.eval()\n",
    "\n",
    "# Load FinBERT model\n",
    "finbert_model = AutoModelForSequenceClassification.from_pretrained('ProsusAI/finbert', num_labels=5)\n",
    "finbert_model.load_state_dict(torch.load('../models/finbert/model.safetensors'))\n",
    "finbert_model.eval()\n",
    "\n",
    "# Map sentiment labels to numeric values (0-4)\n",
    "sentiment_mapping = {\n",
    "    'STRONGLY_NEGATIVE': 0,\n",
    "    'NEGATIVE': 1,\n",
    "    'NEUTRAL': 2,\n",
    "    'POSITIVE': 3,\n",
    "    'STRONGLY_POSITIVE': 4\n",
    "}\n",
    "\n",
    "# Convert sentiment labels to numeric\n",
    "test_data['label'] = test_data['sentiment'].map(lambda x: sentiment_mapping.get(x, 2))"
   ]
  },
  {
   "cell_type": "markdown",
   "metadata": {},
   "source": [
    "## Evaluation Functions"
   ]
  },
  {
   "cell_type": "code",
   "execution_count": null,
   "metadata": {},
   "outputs": [],
   "source": [
    "def evaluate_model(model, tokenizer, texts, labels, batch_size=32):\n",
    "    predictions = []\n",
    "    true_labels = []\n",
    "    inference_times = []\n",
    "    \n",
    "    for i in tqdm(range(0, len(texts), batch_size)):\n",
    "        batch_texts = texts[i:i + batch_size]\n",
    "        batch_labels = labels[i:i + batch_size]\n",
    "        \n",
    "        # Tokenize\n",
    "        inputs = tokenizer(batch_texts, padding=True, truncation=True, max_length=128, return_tensors='pt')\n",
    "        \n",
    "        # Measure inference time\n",
    "        start_time = time.time()\n",
    "        with torch.no_grad():\n",
    "            outputs = model(**inputs)\n",
    "            preds = torch.argmax(outputs.logits, dim=1)\n",
    "        inference_time = time.time() - start_time\n",
    "        \n",
    "        predictions.extend(preds.numpy())\n",
    "        true_labels.extend(batch_labels)\n",
    "        inference_times.extend([inference_time / len(batch_texts)] * len(batch_texts))\n",
    "    \n",
    "    # Calculate metrics\n",
    "    metrics = {\n",
    "        'accuracy': accuracy_score(true_labels, predictions),\n",
    "        'precision': precision_recall_fscore_support(true_labels, predictions, average='weighted')[0],\n",
    "        'recall': precision_recall_fscore_support(true_labels, predictions, average='weighted')[1],\n",
    "        'f1': precision_recall_fscore_support(true_labels, predictions, average='weighted')[2],\n",
    "        'kappa': cohen_kappa_score(true_labels, predictions),\n",
    "        'mcc': matthews_corrcoef(true_labels, predictions),\n",
    "        'roc_auc': roc_auc_score(true_labels, predictions, multi_class='ovr'),\n",
    "        'avg_inference_time': np.mean(inference_times),\n",
    "        'confusion_matrix': confusion_matrix(true_labels, predictions)\n",
    "    }\n",
    "    \n",
    "    return metrics"
   ]
  },
  {
   "cell_type": "markdown",
   "metadata": {},
   "source": [
    "## Run Evaluation"
   ]
  },
  {
   "cell_type": "code",
   "execution_count": null,
   "metadata": {},
   "outputs": [],
   "source": [
    "# Evaluate both models\n",
    "print(\"Evaluating Gemma 3 model...\")\n",
    "gemma_metrics = evaluate_model(gemma_model, gemma_tokenizer, test_data['description'], test_data['sentiment'])\n",
    "\n",
    "print(\"\\nEvaluating FinBERT model...\")\n",
    "finbert_metrics = evaluate_model(finbert_model, finbert_tokenizer, test_data['description'], test_data['sentiment'])"
   ]
  },
  {
   "cell_type": "markdown",
   "metadata": {},
   "source": [
    "## Visualize Results"
   ]
  },
  {
   "cell_type": "code",
   "execution_count": null,
   "metadata": {},
   "outputs": [],
   "source": [
    "def plot_metrics_comparison(gemma_metrics, finbert_metrics):\n",
    "    metrics = ['accuracy', 'precision', 'recall', 'f1', 'kappa', 'mcc', 'roc_auc']\n",
    "    models = ['Gemma 3', 'FinBERT']\n",
    "    \n",
    "    plt.figure(figsize=(12, 6))\n",
    "    x = np.arange(len(metrics))\n",
    "    width = 0.35\n",
    "    \n",
    "    plt.bar(x - width/2, [gemma_metrics[m] for m in metrics], width, label='Gemma 3')\n",
    "    plt.bar(x + width/2, [finbert_metrics[m] for m in metrics], width, label='FinBERT')\n",
    "    \n",
    "    plt.xlabel('Metrics')\n",
    "    plt.ylabel('Score')\n",
    "    plt.title('Model Performance Comparison')\n",
    "    plt.xticks(x, metrics, rotation=45)\n",
    "    plt.legend()\n",
    "    plt.tight_layout()\n",
    "    plt.show()\n",
    "\n",
    "def plot_confusion_matrices(gemma_metrics, finbert_metrics):\n",
    "    fig, (ax1, ax2) = plt.subplots(1, 2, figsize=(15, 5))\n",
    "    \n",
    "    # Plot Gemma 3 confusion matrix\n",
    "    sns.heatmap(gemma_metrics['confusion_matrix'], annot=True, fmt='d', ax=ax1)\n",
    "    ax1.set_title('Gemma 3 Confusion Matrix')\n",
    "    \n",
    "    # Plot FinBERT confusion matrix\n",
    "    sns.heatmap(finbert_metrics['confusion_matrix'], annot=True, fmt='d', ax=ax2)\n",
    "    ax2.set_title('FinBERT Confusion Matrix')\n",
    "    \n",
    "    plt.tight_layout()\n",
    "    plt.show()\n",
    "\n",
    "# Plot comparisons\n",
    "plot_metrics_comparison(gemma_metrics, finbert_metrics)\n",
    "plot_confusion_matrices(gemma_metrics, finbert_metrics)"
   ]
  },
  {
   "cell_type": "markdown",
   "metadata": {},
   "source": [
    "## Print Detailed Results"
   ]
  },
  {
   "cell_type": "code",
   "execution_count": null,
   "metadata": {},
   "outputs": [],
   "source": [
    "def print_metrics(metrics, model_name):\n",
    "    print(f\"\\n{model_name} Results:\")\n",
    "    print(f\"Accuracy: {metrics['accuracy']:.4f}\")\n",
    "    print(f\"Precision: {metrics['precision']:.4f}\")\n",
    "    print(f\"Recall: {metrics['recall']:.4f}\")\n",
    "    print(f\"F1 Score: {metrics['f1']:.4f}\")\n",
    "    print(f\"Cohen's Kappa: {metrics['kappa']:.4f}\")\n",
    "    print(f\"Matthews Correlation Coefficient: {metrics['mcc']:.4f}\")\n",
    "    print(f\"ROC-AUC Score: {metrics['roc_auc']:.4f}\")\n",
    "    print(f\"Average Inference Time: {metrics['avg_inference_time']*1000:.2f} ms\")\n",
    "\n",
    "print_metrics(gemma_metrics, \"Gemma 3\")\n",
    "print_metrics(finbert_metrics, \"FinBERT\")"
   ]
  },
  {
   "cell_type": "markdown",
   "metadata": {},
   "source": [
    "## Analysis and Conclusions"
   ]
  },
  {
   "cell_type": "code",
   "execution_count": null,
   "metadata": {},
   "outputs": [],
   "source": [
    "def analyze_results(gemma_metrics, finbert_metrics):\n",
    "    print(\"\\nAnalysis:\")\n",
    "    \n",
    "    # Compare accuracy\n",
    "    acc_diff = gemma_metrics['accuracy'] - finbert_metrics['accuracy']\n",
    "    print(f\"Accuracy Difference: {acc_diff:.4f} ({'Gemma 3' if acc_diff > 0 else 'FinBERT'} better)\")\n",
    "    \n",
    "    # Compare F1 scores\n",
    "    f1_diff = gemma_metrics['f1'] - finbert_metrics['f1']\n",
    "    print(f\"F1 Score Difference: {f1_diff:.4f} ({'Gemma 3' if f1_diff > 0 else 'FinBERT'} better)\")\n",
    "    \n",
    "    # Compare inference times\n",
    "    time_diff = gemma_metrics['avg_inference_time'] - finbert_metrics['avg_inference_time']\n",
    "    print(f\"Inference Time Difference: {time_diff*1000:.2f} ms ({'FinBERT' if time_diff > 0 else 'Gemma 3'} faster)\")\n",
    "    \n",
    "    # Analyze confusion matrices\n",
    "    print(\"\\nConfusion Matrix Analysis:\")\n",
    "    for model_name, metrics in [('Gemma 3', gemma_metrics), ('FinBERT', finbert_metrics)]:\n",
    "        cm = metrics['confusion_matrix']\n",
    "        print(f\"\\n{model_name}:\")\n",
    "        print(f\"Most Confused Classes: {np.unravel_index(cm.argmax(), cm.shape)}\")\n",
    "        print(f\"Diagonal Sum (Correct Predictions): {np.sum(np.diag(cm))}\")\n",
    "\n",
    "analyze_results(gemma_metrics, finbert_metrics)"
   ]
  }
 ],
 "metadata": {
  "kernelspec": {
   "display_name": "Python 3",
   "language": "python",
   "name": "python3"
  },
  "language_info": {
   "codemirror_mode": {
    "name": "ipython",
    "version": 3
   },
   "file_extension": ".py",
   "mimetype": "text/x-python",
   "name": "python",
   "nbconvert_exporter": "python",
   "pygments_lexer": "ipython3",
   "version": "3.11.0"
  }
 },
 "nbformat": 4,
 "nbformat_minor": 4
}
